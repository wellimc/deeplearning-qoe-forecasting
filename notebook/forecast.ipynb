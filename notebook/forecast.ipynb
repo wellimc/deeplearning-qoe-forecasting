{
 "cells": [
  {
   "cell_type": "markdown",
   "metadata": {},
   "source": [
    "## Multivariate Time Series Forecasting with Deep Learning\n",
    "### Predicting the price of Bitcoin and interpreting the results"
   ]
  },
  {
   "cell_type": "markdown",
   "metadata": {},
   "source": [
    "This notebook runs the entire forecasting pipeline from data preparation to model training and interpretation.\n",
    "\n",
    "Alternatively, everything can be run from the terminal as well (see README.md).\n",
    "\n",
    "Prerequisite: Dataset has been downloaded (see README.md) and parameters have been updated if necessary (see /model/params.yaml)."
   ]
  },
  {
   "cell_type": "markdown",
   "metadata": {},
   "source": [
    "### Setup"
   ]
  },
  {
   "cell_type": "code",
   "execution_count": 1,
   "metadata": {},
   "outputs": [],
   "source": [
    "import os\n",
    "import yaml\n",
    "import pandas as pd\n",
    "from pathlib import Path\n",
    "from matplotlib import pyplot as plt\n",
    "import seaborn as sns\n",
    "sns.set()\n",
    "\n",
    "os.chdir(\"../scripts\")\n",
    "\n",
    "import preprocess, train, inference, interpret"
   ]
  },
  {
   "cell_type": "code",
   "execution_count": 2,
   "metadata": {},
   "outputs": [],
   "source": [
    "with open(\"../model/params.yaml\", \"r\") as params_file:\n",
    "    params = yaml.safe_load(params_file)\n",
    "\n",
    "data_dir = params['data_dir']"
   ]
  },
  {
   "cell_type": "markdown",
   "metadata": {},
   "source": [
    "### Load and Prepare the Data"
   ]
  },
  {
   "cell_type": "code",
   "execution_count": null,
   "metadata": {},
   "outputs": [],
   "source": [
    "file_name = \"BTC-USD.csv\"\n",
    "data = preprocess.load_data(file_name)\n",
    "data.head(3)"
   ]
  },
  {
   "cell_type": "code",
   "execution_count": null,
   "metadata": {},
   "outputs": [],
   "source": [
    "train_df, test_df = preprocess.prep_data(df=data, train_frac=0.5, plot_df=True)"
   ]
  },
  {
   "cell_type": "code",
   "execution_count": null,
   "metadata": {},
   "outputs": [],
   "source": [
    "train_df.shape, test_df.shape"
   ]
  },
  {
   "cell_type": "markdown",
   "metadata": {},
   "source": [
    "### Explore the Data"
   ]
  },
  {
   "cell_type": "code",
   "execution_count": null,
   "metadata": {},
   "outputs": [],
   "source": [
    "plot_df = pd.read_csv(Path(data_dir, 'plot_df.csv'))\n",
    "plot_df['Close_Change'] = plot_df.Close.pct_change(1)\n",
    "plot_df = plot_df.dropna()"
   ]
  },
  {
   "cell_type": "code",
   "execution_count": null,
   "metadata": {},
   "outputs": [],
   "source": [
    "plot_df['Close'].plot(figsize=(12,6), rot=45, cmap='viridis')\n",
    "plt.title('Daily Price (Close)')\n",
    "plt.show()"
   ]
  },
  {
   "cell_type": "code",
   "execution_count": null,
   "metadata": {},
   "outputs": [],
   "source": [
    "fig, axes = plt.subplots(nrows=3, ncols=1)\n",
    "plot_df['Close_Change'].plot(ax=axes[0], figsize=(12,6), rot=90, title='a. Daily Price Change', sharex=True)\n",
    "plot_df['Close_Change'].rolling(90).mean().plot(ax=axes[1], figsize=(12,6), rot=90, title='b. Rolling Mean', color='orange')\n",
    "plot_df['Close_Change'].rolling(90).std().plot(ax=axes[2], figsize=(12,6), rot=0, title='c. Rolling Standard Deviation', color='purple')\n",
    "plt.show()"
   ]
  },
  {
   "cell_type": "markdown",
   "metadata": {},
   "source": [
    "### Train the LSTM model"
   ]
  },
  {
   "cell_type": "code",
   "execution_count": null,
   "metadata": {},
   "outputs": [],
   "source": [
    "sequence_length = 30\n",
    "batch_size = 8\n",
    "n_epochs = 20\n",
    "n_epochs_stop = 5\n",
    "label_name = 'Close'"
   ]
  },
  {
   "cell_type": "code",
   "execution_count": null,
   "metadata": {},
   "outputs": [],
   "source": [
    "hist = train.train_model(train_df, test_df, label_name, sequence_length, batch_size, n_epochs, n_epochs_stop)"
   ]
  },
  {
   "cell_type": "code",
   "execution_count": null,
   "metadata": {},
   "outputs": [],
   "source": [
    "hist.plot(figsize=(12,6), cmap='viridis')\n",
    "plt.show()"
   ]
  },
  {
   "cell_type": "markdown",
   "metadata": {},
   "source": [
    "### Evaluate the model"
   ]
  },
  {
   "cell_type": "code",
   "execution_count": null,
   "metadata": {},
   "outputs": [],
   "source": [
    "predictions_descaled, labels_descaled = inference.predict(df=test_df,\n",
    "                                                          label_name='Close',\n",
    "                                                          sequence_length=sequence_length)\n",
    "\n",
    "predictions_descaled.shape, predictions_descaled.shape"
   ]
  },
  {
   "cell_type": "code",
   "execution_count": null,
   "metadata": {},
   "outputs": [],
   "source": [
    "print('Error on all test data:')\n",
    "inference.print_loss_metrics(labels_descaled, predictions_descaled)\n",
    "print('\\n')\n",
    "print('Error on partial test data:')\n",
    "inference.print_loss_metrics(labels_descaled[:30], predictions_descaled[:30])"
   ]
  },
  {
   "cell_type": "code",
   "execution_count": null,
   "metadata": {},
   "outputs": [],
   "source": [
    "# plot predictions vs true values\n",
    "df_pred = pd.DataFrame()\n",
    "df_pred['predicted'] = predictions_descaled\n",
    "df_pred['true'] = labels_descaled\n",
    "df_pred['residual'] = labels_descaled - predictions_descaled\n",
    "df_pred.plot(figsize=(12,6), cmap='viridis')\n",
    "plt.xticks(rotation=45)\n",
    "#plt.xlim(0,300)\n",
    "plt.xlabel('days')\n",
    "plt.ylabel('price')\n",
    "plt.legend()\n",
    "plt.show()"
   ]
  },
  {
   "cell_type": "markdown",
   "metadata": {},
   "source": [
    "### Find important features"
   ]
  },
  {
   "cell_type": "code",
   "execution_count": null,
   "metadata": {},
   "outputs": [],
   "source": [
    "from train import TimeSeriesDataset, TSModel\n",
    "from torch.utils.data import DataLoader\n",
    "import torch\n",
    "import shap"
   ]
  },
  {
   "cell_type": "code",
   "execution_count": null,
   "metadata": {},
   "outputs": [],
   "source": [
    "background_data_size = 900\n",
    "test_sample_size = 100\n",
    "sequence_length = 30"
   ]
  },
  {
   "cell_type": "code",
   "execution_count": null,
   "metadata": {},
   "outputs": [],
   "source": [
    "shap_values = interpret.get_important_features(\n",
    "    background_data_size,\n",
    "    test_sample_size,\n",
    "    sequence_length\n",
    ")"
   ]
  },
  {
   "cell_type": "code",
   "execution_count": null,
   "metadata": {},
   "outputs": [],
   "source": [
    "shap_plot = pd.DataFrame(shap_values, columns=train_df.columns.tolist())\n",
    "shap_plot['days'] = [i-31 for i in list(range(1,31))]\n",
    "shap_plot.head()"
   ]
  },
  {
   "cell_type": "code",
   "execution_count": null,
   "metadata": {},
   "outputs": [],
   "source": [
    "shap_plot.plot.area(x='days',figsize=(10, 6), cmap='viridis')\n",
    "plt.title(\"Deep SHAP - Feature Importance\")\n",
    "plt.show()"
   ]
  },
  {
   "cell_type": "code",
   "execution_count": null,
   "metadata": {},
   "outputs": [],
   "source": []
  }
 ],
 "metadata": {
  "kernelspec": {
   "display_name": "Python 3 (ipykernel)",
   "language": "python",
   "name": "python3"
  },
  "language_info": {
   "codemirror_mode": {
    "name": "ipython",
    "version": 3
   },
   "file_extension": ".py",
   "mimetype": "text/x-python",
   "name": "python",
   "nbconvert_exporter": "python",
   "pygments_lexer": "ipython3",
   "version": "3.8.10"
  }
 },
 "nbformat": 4,
 "nbformat_minor": 4
}
