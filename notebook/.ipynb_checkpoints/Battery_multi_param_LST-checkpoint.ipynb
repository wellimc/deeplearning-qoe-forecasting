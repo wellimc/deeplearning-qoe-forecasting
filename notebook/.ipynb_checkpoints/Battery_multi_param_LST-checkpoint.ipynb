{
 "cells": [
  {
   "cell_type": "code",
   "execution_count": 1,
   "id": "9928c56c",
   "metadata": {},
   "outputs": [],
   "source": [
    "import os\n",
    "import yaml\n",
    "import pandas as pd\n",
    "from pathlib import Path\n",
    "from matplotlib import pyplot as plt\n",
    "import seaborn as sns\n",
    "sns.set()\n",
    "\n",
    "os.chdir(\"../scripts\")\n",
    "\n",
    "import preprocess, train, inference, interpret"
   ]
  },
  {
   "cell_type": "code",
   "execution_count": 2,
   "id": "1d5b979a",
   "metadata": {},
   "outputs": [],
   "source": [
    "with open(\"../model/params.yaml\", \"r\") as params_file:\n",
    "    params = yaml.safe_load(params_file)\n",
    "\n",
    "data_dir = params['data_dir']"
   ]
  },
  {
   "cell_type": "code",
   "execution_count": 3,
   "id": "ce80e0a3",
   "metadata": {},
   "outputs": [
    {
     "ename": "NameError",
     "evalue": "name 'df' is not defined",
     "output_type": "error",
     "traceback": [
      "\u001b[0;31m---------------------------------------------------------------------------\u001b[0m",
      "\u001b[0;31mNameError\u001b[0m                                 Traceback (most recent call last)",
      "Input \u001b[0;32mIn [3]\u001b[0m, in \u001b[0;36m<cell line: 2>\u001b[0;34m()\u001b[0m\n\u001b[1;32m      1\u001b[0m file_name \u001b[38;5;241m=\u001b[39m \u001b[38;5;124m\"\u001b[39m\u001b[38;5;124mTrepn_2022.04.04_183605_total.csv\u001b[39m\u001b[38;5;124m\"\u001b[39m\n\u001b[0;32m----> 2\u001b[0m timestamp_s \u001b[38;5;241m=\u001b[39m \u001b[43mdf\u001b[49m\u001b[38;5;241m.\u001b[39mpop(\u001b[38;5;124m'\u001b[39m\u001b[38;5;124mTime\u001b[39m\u001b[38;5;124m'\u001b[39m)\n\u001b[1;32m      3\u001b[0m data \u001b[38;5;241m=\u001b[39m preprocess\u001b[38;5;241m.\u001b[39mload_data(file_name)\n\u001b[1;32m      4\u001b[0m data\u001b[38;5;241m.\u001b[39mhead(\u001b[38;5;241m3\u001b[39m)\n",
      "\u001b[0;31mNameError\u001b[0m: name 'df' is not defined"
     ]
    }
   ],
   "source": [
    "file_name = \"Trepn_2022.04.04_183605_total.csv\"\n",
    "data,timestamp_s = preprocess.load_data(file_name)\n",
    "data.head(3)"
   ]
  },
  {
   "cell_type": "code",
   "execution_count": null,
   "id": "45ee4a50",
   "metadata": {},
   "outputs": [],
   "source": [
    "train_df, test_df = preprocess.prep_data(df=data, train_frac=0.7, plot_df=True)"
   ]
  },
  {
   "cell_type": "code",
   "execution_count": null,
   "id": "6420153a",
   "metadata": {},
   "outputs": [],
   "source": [
    "print(train_df.shape)\n",
    "print(test_df.shape)\n",
    "train_df.head(10)"
   ]
  },
  {
   "cell_type": "code",
   "execution_count": null,
   "id": "a05c6295",
   "metadata": {},
   "outputs": [],
   "source": [
    "test_df.head(10)"
   ]
  },
  {
   "cell_type": "code",
   "execution_count": null,
   "id": "d8dbccac",
   "metadata": {},
   "outputs": [],
   "source": [
    "plot_df = pd.read_csv(Path(data_dir, 'plot_df.csv'))\n",
    "plot_df['Battery'] = plot_df.Battery\n",
    "plot_df = plot_df.dropna()"
   ]
  },
  {
   "cell_type": "code",
   "execution_count": null,
   "id": "3da401a8",
   "metadata": {},
   "outputs": [],
   "source": [
    "plot_df['Battery'].plot(figsize=(12,6), rot=45, cmap='viridis')\n",
    "plt.title('Battery Drain (%)')\n",
    "plt.show()"
   ]
  },
  {
   "cell_type": "code",
   "execution_count": null,
   "id": "29e10d5e",
   "metadata": {},
   "outputs": [],
   "source": [
    "fig, axes = plt.subplots(nrows=3, ncols=1)\n",
    "plot_df['Battery'].plot(ax=axes[0], figsize=(12,6), rot=10, title='a. Bateery Level Change', sharex=True)\n",
    "plot_df['Battery'].rolling(90).mean().plot(ax=axes[1], figsize=(12,6), rot=90, title='b. Mean', color='orange')\n",
    "plot_df['Battery'].rolling(90).std().plot(ax=axes[2], figsize=(12,6), rot=0, title='c.  Standard Deviation', color='purple')\n",
    "plt.show()"
   ]
  },
  {
   "cell_type": "code",
   "execution_count": null,
   "id": "662817cc",
   "metadata": {},
   "outputs": [],
   "source": [
    "sequence_length = 30\n",
    "batch_size = 24\n",
    "n_epochs = 200\n",
    "n_epochs_stop = 20\n",
    "\n",
    "#sequence_length = 10\n",
    "#batch_size = 5\n",
    "#n_epochs = 200\n",
    "#n_epochs_stop = 50\n",
    "label_name = 'Battery'"
   ]
  },
  {
   "cell_type": "code",
   "execution_count": null,
   "id": "7e09282e",
   "metadata": {},
   "outputs": [],
   "source": [
    "hist = train.train_model(train_df, test_df, label_name, sequence_length, batch_size, n_epochs, n_epochs_stop)"
   ]
  },
  {
   "cell_type": "code",
   "execution_count": null,
   "id": "09c49d65",
   "metadata": {},
   "outputs": [],
   "source": [
    "hist.plot(figsize=(12,6), cmap='viridis')\n",
    "plt.show()"
   ]
  },
  {
   "cell_type": "code",
   "execution_count": null,
   "id": "9e8500ca",
   "metadata": {},
   "outputs": [],
   "source": [
    "predictions_descaled, labels_descaled = inference.predict(df=test_df,\n",
    "                                                          label_name='Battery',\n",
    "                                                          sequence_length=sequence_length)\n",
    "\n",
    "predictions_descaled.shape, predictions_descaled.shape\n",
    "\n",
    "print(test_df.shape)"
   ]
  },
  {
   "cell_type": "code",
   "execution_count": null,
   "id": "1cdd0b60",
   "metadata": {},
   "outputs": [],
   "source": [
    "print('Error on all test data:')\n",
    "inference.print_loss_metrics(labels_descaled, predictions_descaled)\n",
    "print('\\n')\n",
    "print('Error on partial test data:')\n",
    "inference.print_loss_metrics(labels_descaled[:30], predictions_descaled[:30])"
   ]
  },
  {
   "cell_type": "code",
   "execution_count": null,
   "id": "735ef133",
   "metadata": {},
   "outputs": [],
   "source": [
    "# plot predictions vs true values\n",
    "df_pred = pd.DataFrame()\n",
    "df_pred['predicted'] = predictions_descaled\n",
    "df_pred['true'] = labels_descaled\n",
    "df_pred['residual'] = labels_descaled - predictions_descaled\n",
    "df_pred.plot(figsize=(12,6), cmap='viridis')\n",
    "plt.xticks(rotation=45)\n",
    "#plt.xlim(0,300)\n",
    "plt.xlabel('Min')\n",
    "plt.ylabel('price')\n",
    "plt.legend()\n",
    "plt.show()"
   ]
  },
  {
   "cell_type": "code",
   "execution_count": null,
   "id": "6ea952ce",
   "metadata": {},
   "outputs": [],
   "source": [
    "from train import TimeSeriesDataset, TSModel\n",
    "from torch.utils.data import DataLoader\n",
    "import torch\n",
    "import shap"
   ]
  },
  {
   "cell_type": "code",
   "execution_count": null,
   "id": "f9e6cc16",
   "metadata": {},
   "outputs": [],
   "source": [
    "background_data_size = 464\n",
    "test_sample_size = 100\n",
    "sequence_length = 30"
   ]
  },
  {
   "cell_type": "code",
   "execution_count": null,
   "id": "ce3eefa7",
   "metadata": {},
   "outputs": [],
   "source": [
    "shap_values = interpret.get_important_features(\n",
    "    background_data_size,\n",
    "    test_sample_size,\n",
    "    sequence_length\n",
    ")"
   ]
  },
  {
   "cell_type": "code",
   "execution_count": null,
   "id": "01ee1925",
   "metadata": {},
   "outputs": [],
   "source": [
    "shap_plot = pd.DataFrame(shap_values, columns=train_df.columns.tolist())\n",
    "shap_plot['Time'] = [i-11 for i in list(range(1,11))]\n",
    "shap_plot.head()"
   ]
  },
  {
   "cell_type": "code",
   "execution_count": null,
   "id": "9046d94c",
   "metadata": {},
   "outputs": [],
   "source": [
    "shap_plot.plot.area(x='Time',figsize=(10, 6), cmap='viridis')\n",
    "plt.title(\"Deep SHAP - Feature Importance\")\n",
    "plt.show()"
   ]
  },
  {
   "cell_type": "code",
   "execution_count": null,
   "id": "6ac315e6",
   "metadata": {},
   "outputs": [],
   "source": []
  },
  {
   "cell_type": "code",
   "execution_count": null,
   "id": "ddb6e5f4",
   "metadata": {},
   "outputs": [],
   "source": []
  }
 ],
 "metadata": {
  "kernelspec": {
   "display_name": "Python 3 (ipykernel)",
   "language": "python",
   "name": "python3"
  },
  "language_info": {
   "codemirror_mode": {
    "name": "ipython",
    "version": 3
   },
   "file_extension": ".py",
   "mimetype": "text/x-python",
   "name": "python",
   "nbconvert_exporter": "python",
   "pygments_lexer": "ipython3",
   "version": "3.8.10"
  }
 },
 "nbformat": 4,
 "nbformat_minor": 5
}
