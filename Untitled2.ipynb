{
 "cells": [
  {
   "cell_type": "code",
   "execution_count": 1,
   "id": "9a608df3",
   "metadata": {},
   "outputs": [],
   "source": [
    "import nest_asyncio\n",
    "nest_asyncio.apply()"
   ]
  },
  {
   "cell_type": "code",
   "execution_count": 3,
   "id": "9908d905",
   "metadata": {},
   "outputs": [],
   "source": [
    "import collections\n",
    "import time\n",
    "\n",
    "import tensorflow as tf\n",
    "import tensorflow_federated as tff"
   ]
  },
  {
   "cell_type": "code",
   "execution_count": 4,
   "id": "7089efef",
   "metadata": {},
   "outputs": [
    {
     "name": "stderr",
     "output_type": "stream",
     "text": [
      "Downloading emnist_all.sqlite.lzma: 100%|██████████████████████████████████████████████████████████████████████████████████████████████████████████████████████████████████████████████████| 170507172/170507172 [00:38<00:00, 4232544.82it/s]\n"
     ]
    }
   ],
   "source": [
    "client_data, _ = tff.simulation.datasets.emnist.load_data()"
   ]
  },
  {
   "cell_type": "code",
   "execution_count": 10,
   "id": "2778cfeb",
   "metadata": {},
   "outputs": [
    {
     "name": "stdout",
     "output_type": "stream",
     "text": [
      "f0000_14\n"
     ]
    }
   ],
   "source": [
    "print(client_data.client_ids[0])"
   ]
  },
  {
   "cell_type": "code",
   "execution_count": 11,
   "id": "d79a5b90",
   "metadata": {},
   "outputs": [
    {
     "name": "stdout",
     "output_type": "stream",
     "text": [
      "OrderedDict([('label', TensorSpec(shape=(), dtype=tf.int32, name=None)), ('pixels', TensorSpec(shape=(28, 28), dtype=tf.float32, name=None))])\n"
     ]
    }
   ],
   "source": [
    "first_client_id = client_data.client_ids[0]\n",
    "first_client_dataset = client_data.create_tf_dataset_for_client(\n",
    "    first_client_id)\n",
    "print(first_client_dataset.element_spec)\n",
    "# This information is also available as a `ClientData` property:\n",
    "assert client_data.element_type_structure == first_client_dataset.element_spec"
   ]
  },
  {
   "cell_type": "code",
   "execution_count": 12,
   "id": "0881e0d8",
   "metadata": {},
   "outputs": [
    {
     "name": "stdout",
     "output_type": "stream",
     "text": [
      "OrderedDict([('x', TensorSpec(shape=(None, 784), dtype=tf.float32, name=None)), ('y', TensorSpec(shape=(None, 1), dtype=tf.int64, name=None))])\n"
     ]
    }
   ],
   "source": [
    "def preprocess_dataset(dataset):\n",
    "  \"\"\"Create batches of 5 examples, and limit to 3 batches.\"\"\"\n",
    "\n",
    "  def map_fn(input):\n",
    "    return collections.OrderedDict(\n",
    "        x=tf.reshape(input['pixels'], shape=(-1, 784)),\n",
    "        y=tf.cast(tf.reshape(input['label'], shape=(-1, 1)), tf.int64),\n",
    "    )\n",
    "\n",
    "  return dataset.batch(5).map(\n",
    "      map_fn, num_parallel_calls=tf.data.experimental.AUTOTUNE).take(5)\n",
    "\n",
    "\n",
    "preprocessed_client_data = client_data.preprocess(preprocess_dataset)\n",
    "\n",
    "# Notice that we have both reshaped and renamed the elements of the ordered dict.\n",
    "first_client_dataset = preprocessed_client_data.create_tf_dataset_for_client(\n",
    "    first_client_id)\n",
    "print(first_client_dataset.element_spec)"
   ]
  },
  {
   "cell_type": "code",
   "execution_count": null,
   "id": "2966905e",
   "metadata": {},
   "outputs": [],
   "source": []
  }
 ],
 "metadata": {
  "kernelspec": {
   "display_name": "Python 3 (ipykernel)",
   "language": "python",
   "name": "python3"
  },
  "language_info": {
   "codemirror_mode": {
    "name": "ipython",
    "version": 3
   },
   "file_extension": ".py",
   "mimetype": "text/x-python",
   "name": "python",
   "nbconvert_exporter": "python",
   "pygments_lexer": "ipython3",
   "version": "3.8.10"
  }
 },
 "nbformat": 4,
 "nbformat_minor": 5
}
