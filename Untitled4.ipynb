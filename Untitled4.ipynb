{
 "cells": [
  {
   "cell_type": "code",
   "execution_count": 3,
   "id": "b9ceca49",
   "metadata": {},
   "outputs": [],
   "source": [
    "MEMORY_DIC =  {300: 1, 750: 5, 1200: 3 ,1850: 10,2850: 15,2850: 20,4300: 30}\n",
    "CLIENT_MEMORY =  {1: 1000, 2: 3000, 3: 6000 , 4:32000}\n",
    "\n",
    "CLIENT_1_MOS =   {300: 3, 750: 4, 1200: 5 ,1850:6, 2850:6, 4300:6}\n",
    "CLIENT_2_MOS =   {300: 2, 750: 3, 1200: 4 ,1850:5, 2850:6, 4300:6}\n",
    "CLIENT_3_MOS =   {300: 1, 750: 2, 1200: 3 ,1850:4, 2850:6, 4300:6}\n",
    "CLIENT_4_MOS =   {300: 1, 750: 1, 1200: 2 ,1850:2, 2850:3, 4300:5}\n",
    "\n",
    "CLIENT_1_MOS_VIDEO =   {3:300,   4:750,  5:1200,   6:1850, 6:2850, 6:4300}\n",
    "CLIENT_2_MOS_VIDEO =   {2:300,   3:750,  4:1200,   5:1850, 6:2850, 6:4300}\n",
    "CLIENT_3_MOS_VIDEO =   {1:300,   2:750,  3:1200,   4:1850, 6:2850, 6:4300}\n",
    "CLIENT_4_MOS_VIDEO =   {1:300,   1:750,  2:1200,   2:1850, 4:2850, 5:4300}\n",
    "VIDEO_BIT_RATE = [300,750,1200,1850,2850,4300]  # Kbps"
   ]
  },
  {
   "cell_type": "code",
   "execution_count": 4,
   "id": "6374a95f",
   "metadata": {},
   "outputs": [
    {
     "ename": "IndexError",
     "evalue": "list index out of range",
     "output_type": "error",
     "traceback": [
      "\u001b[0;31m---------------------------------------------------------------------------\u001b[0m",
      "\u001b[0;31mIndexError\u001b[0m                                Traceback (most recent call last)",
      "Input \u001b[0;32mIn [4]\u001b[0m, in \u001b[0;36m<cell line: 1>\u001b[0;34m()\u001b[0m\n\u001b[0;32m----> 1\u001b[0m bit_rate \u001b[38;5;241m=\u001b[39m \u001b[43mVIDEO_BIT_RATE\u001b[49m\u001b[43m[\u001b[49m\u001b[43mCLIENT_1_MOS_VIDEO\u001b[49m\u001b[43m[\u001b[49m\u001b[38;5;241;43m4\u001b[39;49m\u001b[43m]\u001b[49m\u001b[43m]\u001b[49m\n",
      "\u001b[0;31mIndexError\u001b[0m: list index out of range"
     ]
    }
   ],
   "source": [
    " bit_rate = VIDEO_BIT_RATE[CLIENT_1_MOS_VIDEO[4]]"
   ]
  },
  {
   "cell_type": "code",
   "execution_count": 5,
   "id": "6953bb71",
   "metadata": {},
   "outputs": [
    {
     "data": {
      "text/plain": [
       "750"
      ]
     },
     "execution_count": 5,
     "metadata": {},
     "output_type": "execute_result"
    }
   ],
   "source": [
    "CLIENT_1_MOS_VIDEO[4]"
   ]
  },
  {
   "cell_type": "code",
   "execution_count": 11,
   "id": "f064aeaa",
   "metadata": {},
   "outputs": [],
   "source": [
    "import random\n",
    "id_randon = random.randint(3, 4)"
   ]
  },
  {
   "cell_type": "code",
   "execution_count": 12,
   "id": "27d81652",
   "metadata": {},
   "outputs": [
    {
     "name": "stdout",
     "output_type": "stream",
     "text": [
      "4\n"
     ]
    }
   ],
   "source": [
    "print(id_randon)"
   ]
  },
  {
   "cell_type": "code",
   "execution_count": null,
   "id": "df04fd07",
   "metadata": {},
   "outputs": [],
   "source": []
  }
 ],
 "metadata": {
  "kernelspec": {
   "display_name": "Python 3 (ipykernel)",
   "language": "python",
   "name": "python3"
  },
  "language_info": {
   "codemirror_mode": {
    "name": "ipython",
    "version": 3
   },
   "file_extension": ".py",
   "mimetype": "text/x-python",
   "name": "python",
   "nbconvert_exporter": "python",
   "pygments_lexer": "ipython3",
   "version": "3.8.10"
  }
 },
 "nbformat": 4,
 "nbformat_minor": 5
}
