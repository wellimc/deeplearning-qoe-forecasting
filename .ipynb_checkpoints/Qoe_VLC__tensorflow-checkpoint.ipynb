{
 "cells": [
  {
   "cell_type": "code",
   "execution_count": 1,
   "id": "ecd1c35b",
   "metadata": {},
   "outputs": [],
   "source": [
    "import os\n",
    "import datetime\n",
    "from datetime import datetime\n",
    "\n",
    "import IPython\n",
    "import IPython.display\n",
    "import matplotlib as mpl\n",
    "import matplotlib.pyplot as plt\n",
    "import numpy as np\n",
    "import pandas as pd\n",
    "import seaborn as sns\n",
    "import tensorflow as tf\n",
    "\n",
    "mpl.rcParams['figure.figsize'] = (8, 6)\n",
    "mpl.rcParams['axes.grid'] = False"
   ]
  },
  {
   "cell_type": "code",
   "execution_count": 2,
   "id": "b1e1e154",
   "metadata": {},
   "outputs": [
    {
     "data": {
      "text/html": [
       "<div>\n",
       "<style scoped>\n",
       "    .dataframe tbody tr th:only-of-type {\n",
       "        vertical-align: middle;\n",
       "    }\n",
       "\n",
       "    .dataframe tbody tr th {\n",
       "        vertical-align: top;\n",
       "    }\n",
       "\n",
       "    .dataframe thead th {\n",
       "        text-align: right;\n",
       "    }\n",
       "</style>\n",
       "<table border=\"1\" class=\"dataframe\">\n",
       "  <thead>\n",
       "    <tr style=\"text-align: right;\">\n",
       "      <th></th>\n",
       "      <th>Speed</th>\n",
       "      <th>RSRP</th>\n",
       "      <th>RSRQ</th>\n",
       "      <th>SNR</th>\n",
       "      <th>CQI</th>\n",
       "      <th>RSSI</th>\n",
       "      <th>DL_bitrate</th>\n",
       "      <th>UL_bitrate</th>\n",
       "      <th>ServingCell_Distance</th>\n",
       "    </tr>\n",
       "  </thead>\n",
       "  <tbody>\n",
       "    <tr>\n",
       "      <th>0</th>\n",
       "      <td>0</td>\n",
       "      <td>-121</td>\n",
       "      <td>-17</td>\n",
       "      <td>-7</td>\n",
       "      <td>5</td>\n",
       "      <td>-94</td>\n",
       "      <td>3153</td>\n",
       "      <td>85</td>\n",
       "      <td>928.09</td>\n",
       "    </tr>\n",
       "    <tr>\n",
       "      <th>1</th>\n",
       "      <td>0</td>\n",
       "      <td>-121</td>\n",
       "      <td>-17</td>\n",
       "      <td>-7</td>\n",
       "      <td>5</td>\n",
       "      <td>-94</td>\n",
       "      <td>2717</td>\n",
       "      <td>50</td>\n",
       "      <td>928.09</td>\n",
       "    </tr>\n",
       "    <tr>\n",
       "      <th>2</th>\n",
       "      <td>0</td>\n",
       "      <td>-119</td>\n",
       "      <td>-17</td>\n",
       "      <td>-7</td>\n",
       "      <td>6</td>\n",
       "      <td>-94</td>\n",
       "      <td>2784</td>\n",
       "      <td>52</td>\n",
       "      <td>928.09</td>\n",
       "    </tr>\n",
       "  </tbody>\n",
       "</table>\n",
       "</div>"
      ],
      "text/plain": [
       "   Speed  RSRP  RSRQ  SNR  CQI  RSSI  DL_bitrate  UL_bitrate  \\\n",
       "0      0  -121   -17   -7    5   -94        3153          85   \n",
       "1      0  -121   -17   -7    5   -94        2717          50   \n",
       "2      0  -119   -17   -7    6   -94        2784          52   \n",
       "\n",
       "   ServingCell_Distance  \n",
       "0                928.09  \n",
       "1                928.09  \n",
       "2                928.09  "
      ]
     },
     "execution_count": 2,
     "metadata": {},
     "output_type": "execute_result"
    }
   ],
   "source": [
    "\n",
    "custom_date_parser = lambda x: datetime.strptime(x, \"%Y.%m.%d_%H.%M.%S\")\n",
    "df = pd.read_csv ('./data/A_2017.12.03_10.09.56_J5_static.csv',parse_dates=['Timestamp'],\n",
    "                date_parser=custom_date_parser)\n",
    "\n",
    "df['Timestamp'] = df['Timestamp'].apply(lambda x: x.value)\n",
    "#datetime.head(3)\n",
    "timestamp_s = df.pop('Timestamp')\n",
    "df.head(3)"
   ]
  },
  {
   "cell_type": "code",
   "execution_count": 3,
   "id": "59355aeb",
   "metadata": {},
   "outputs": [
    {
     "data": {
      "text/html": [
       "<div>\n",
       "<style scoped>\n",
       "    .dataframe tbody tr th:only-of-type {\n",
       "        vertical-align: middle;\n",
       "    }\n",
       "\n",
       "    .dataframe tbody tr th {\n",
       "        vertical-align: top;\n",
       "    }\n",
       "\n",
       "    .dataframe thead th {\n",
       "        text-align: right;\n",
       "    }\n",
       "</style>\n",
       "<table border=\"1\" class=\"dataframe\">\n",
       "  <thead>\n",
       "    <tr style=\"text-align: right;\">\n",
       "      <th></th>\n",
       "      <th>Speed</th>\n",
       "      <th>RSRP</th>\n",
       "      <th>RSRQ</th>\n",
       "      <th>SNR</th>\n",
       "      <th>CQI</th>\n",
       "      <th>RSSI</th>\n",
       "      <th>DL_bitrate</th>\n",
       "      <th>UL_bitrate</th>\n",
       "      <th>ServingCell_Distance</th>\n",
       "    </tr>\n",
       "  </thead>\n",
       "  <tbody>\n",
       "    <tr>\n",
       "      <th>0</th>\n",
       "      <td>2</td>\n",
       "      <td>-105</td>\n",
       "      <td>-13</td>\n",
       "      <td>4</td>\n",
       "      <td>8</td>\n",
       "      <td>-90</td>\n",
       "      <td>76</td>\n",
       "      <td>16</td>\n",
       "      <td>706.91</td>\n",
       "    </tr>\n",
       "    <tr>\n",
       "      <th>1</th>\n",
       "      <td>2</td>\n",
       "      <td>-105</td>\n",
       "      <td>-10</td>\n",
       "      <td>4</td>\n",
       "      <td>8</td>\n",
       "      <td>-88</td>\n",
       "      <td>4039</td>\n",
       "      <td>153</td>\n",
       "      <td>706.91</td>\n",
       "    </tr>\n",
       "    <tr>\n",
       "      <th>2</th>\n",
       "      <td>2</td>\n",
       "      <td>-105</td>\n",
       "      <td>-10</td>\n",
       "      <td>4</td>\n",
       "      <td>7</td>\n",
       "      <td>-88</td>\n",
       "      <td>13051</td>\n",
       "      <td>302</td>\n",
       "      <td>706.91</td>\n",
       "    </tr>\n",
       "  </tbody>\n",
       "</table>\n",
       "</div>"
      ],
      "text/plain": [
       "   Speed  RSRP  RSRQ  SNR  CQI  RSSI  DL_bitrate  UL_bitrate  \\\n",
       "0      2  -105   -13    4    8   -90          76          16   \n",
       "1      2  -105   -10    4    8   -88        4039         153   \n",
       "2      2  -105   -10    4    7   -88       13051         302   \n",
       "\n",
       "   ServingCell_Distance  \n",
       "0                706.91  \n",
       "1                706.91  \n",
       "2                706.91  "
      ]
     },
     "execution_count": 3,
     "metadata": {},
     "output_type": "execute_result"
    }
   ],
   "source": [
    "\n",
    "dfw = pd.read_csv ('./data/A_2017.12.01_21.56.26_j5_walking.csv',parse_dates=['Timestamp'],\n",
    "                date_parser=custom_date_parser)\n",
    "\n",
    "dfw['Timestamp'] = dfw['Timestamp'].apply(lambda x: x.value)\n",
    "#datetime.head(3)\n",
    "timestamp_walk = dfw.pop('Timestamp')\n",
    "dfw.head(3)"
   ]
  },
  {
   "cell_type": "code",
   "execution_count": 4,
   "id": "bb3a99ea",
   "metadata": {},
   "outputs": [
    {
     "data": {
      "text/html": [
       "<div>\n",
       "<style scoped>\n",
       "    .dataframe tbody tr th:only-of-type {\n",
       "        vertical-align: middle;\n",
       "    }\n",
       "\n",
       "    .dataframe tbody tr th {\n",
       "        vertical-align: top;\n",
       "    }\n",
       "\n",
       "    .dataframe thead th {\n",
       "        text-align: right;\n",
       "    }\n",
       "</style>\n",
       "<table border=\"1\" class=\"dataframe\">\n",
       "  <thead>\n",
       "    <tr style=\"text-align: right;\">\n",
       "      <th></th>\n",
       "      <th>Speed</th>\n",
       "      <th>RSRP</th>\n",
       "      <th>RSRQ</th>\n",
       "      <th>SNR</th>\n",
       "      <th>CQI</th>\n",
       "      <th>RSSI</th>\n",
       "      <th>DL_bitrate</th>\n",
       "      <th>UL_bitrate</th>\n",
       "      <th>ServingCell_Distance</th>\n",
       "    </tr>\n",
       "  </thead>\n",
       "  <tbody>\n",
       "    <tr>\n",
       "      <th>0</th>\n",
       "      <td>0</td>\n",
       "      <td>-100</td>\n",
       "      <td>-8</td>\n",
       "      <td>13</td>\n",
       "      <td>8</td>\n",
       "      <td>-83</td>\n",
       "      <td>4026</td>\n",
       "      <td>75</td>\n",
       "      <td>884.23</td>\n",
       "    </tr>\n",
       "    <tr>\n",
       "      <th>1</th>\n",
       "      <td>0</td>\n",
       "      <td>-101</td>\n",
       "      <td>-9</td>\n",
       "      <td>12</td>\n",
       "      <td>8</td>\n",
       "      <td>-83</td>\n",
       "      <td>4943</td>\n",
       "      <td>91</td>\n",
       "      <td>884.23</td>\n",
       "    </tr>\n",
       "    <tr>\n",
       "      <th>2</th>\n",
       "      <td>0</td>\n",
       "      <td>-101</td>\n",
       "      <td>-9</td>\n",
       "      <td>12</td>\n",
       "      <td>8</td>\n",
       "      <td>-83</td>\n",
       "      <td>5010</td>\n",
       "      <td>94</td>\n",
       "      <td>884.23</td>\n",
       "    </tr>\n",
       "  </tbody>\n",
       "</table>\n",
       "</div>"
      ],
      "text/plain": [
       "   Speed  RSRP  RSRQ  SNR  CQI  RSSI  DL_bitrate  UL_bitrate  \\\n",
       "0      0  -100    -8   13    8   -83        4026          75   \n",
       "1      0  -101    -9   12    8   -83        4943          91   \n",
       "2      0  -101    -9   12    8   -83        5010          94   \n",
       "\n",
       "   ServingCell_Distance  \n",
       "0                884.23  \n",
       "1                884.23  \n",
       "2                884.23  "
      ]
     },
     "execution_count": 4,
     "metadata": {},
     "output_type": "execute_result"
    }
   ],
   "source": [
    "\n",
    "\n",
    "dfc = pd.read_csv ('./data/B_2017.12.14_07.27.18_j5_car.csv',parse_dates=['Timestamp'],\n",
    "                date_parser=custom_date_parser)\n",
    "\n",
    "dfc['Timestamp'] = dfc['Timestamp'].apply(lambda x: x.value)\n",
    "\n",
    "#datetime.head(3)\n",
    "timestamp_car = dfc.pop('Timestamp')\n",
    "dfc.head(3)"
   ]
  },
  {
   "cell_type": "code",
   "execution_count": 5,
   "id": "c2602819",
   "metadata": {},
   "outputs": [
    {
     "data": {
      "text/plain": [
       "(1002,)"
      ]
     },
     "execution_count": 5,
     "metadata": {},
     "output_type": "execute_result"
    }
   ],
   "source": [
    "df.shape\n",
    "timestamp_s.shape"
   ]
  },
  {
   "cell_type": "code",
   "execution_count": 6,
   "id": "667271e6",
   "metadata": {},
   "outputs": [
    {
     "data": {
      "text/plain": [
       "(671,)"
      ]
     },
     "execution_count": 6,
     "metadata": {},
     "output_type": "execute_result"
    }
   ],
   "source": [
    "dfw.shape\n",
    "timestamp_walk.shape"
   ]
  },
  {
   "cell_type": "code",
   "execution_count": 7,
   "id": "81f12870",
   "metadata": {},
   "outputs": [
    {
     "data": {
      "text/plain": [
       "(1648,)"
      ]
     },
     "execution_count": 7,
     "metadata": {},
     "output_type": "execute_result"
    }
   ],
   "source": [
    "dfc.shape\n",
    "timestamp_car.shape"
   ]
  },
  {
   "cell_type": "code",
   "execution_count": 8,
   "id": "fa14eab5",
   "metadata": {},
   "outputs": [
    {
     "data": {
      "image/png": "[encoded data removed]",
      "text/plain": [
       "<Figure size 576x432 with 5 Axes>"
      ]
     },
     "metadata": {
      "needs_background": "light"
     },
     "output_type": "display_data"
    }
   ],
   "source": [
    "plot_cols = ['Speed','ServingCell_Distance','CQI','RSSI','DL_bitrate']\n",
    "plot_features = df[plot_cols]\n",
    "plot_features.index = timestamp_s\n",
    "_ = plot_features.plot(subplots=True)\n"
   ]
  },
  {
   "cell_type": "code",
   "execution_count": 9,
   "id": "c97895bc",
   "metadata": {},
   "outputs": [
    {
     "data": {
      "image/png": "[encoded data removed]",
      "text/plain": [
       "<Figure size 576x432 with 5 Axes>"
      ]
     },
     "metadata": {
      "needs_background": "light"
     },
     "output_type": "display_data"
    }
   ],
   "source": [
    "\n",
    "plot_features = dfw[plot_cols]\n",
    "plot_features.index = timestamp_walk\n",
    "_ = plot_features.plot(subplots=True)"
   ]
  },
  {
   "cell_type": "code",
   "execution_count": 10,
   "id": "14f01c39",
   "metadata": {},
   "outputs": [
    {
     "data": {
      "image/png": "[encoded data removed]",
      "text/plain": [
       "<Figure size 576x432 with 5 Axes>"
      ]
     },
     "metadata": {
      "needs_background": "light"
     },
     "output_type": "display_data"
    }
   ],
   "source": [
    "\n",
    "plot_features = dfc[plot_cols]\n",
    "plot_features.index = timestamp_car\n",
    "_ = plot_features.plot(subplots=True)"
   ]
  },
  {
   "cell_type": "code",
   "execution_count": 11,
   "id": "683e77a9",
   "metadata": {},
   "outputs": [
    {
     "data": {
      "text/html": [
       "<div>\n",
       "<style scoped>\n",
       "    .dataframe tbody tr th:only-of-type {\n",
       "        vertical-align: middle;\n",
       "    }\n",
       "\n",
       "    .dataframe tbody tr th {\n",
       "        vertical-align: top;\n",
       "    }\n",
       "\n",
       "    .dataframe thead th {\n",
       "        text-align: right;\n",
       "    }\n",
       "</style>\n",
       "<table border=\"1\" class=\"dataframe\">\n",
       "  <thead>\n",
       "    <tr style=\"text-align: right;\">\n",
       "      <th></th>\n",
       "      <th>count</th>\n",
       "      <th>mean</th>\n",
       "      <th>std</th>\n",
       "      <th>min</th>\n",
       "      <th>25%</th>\n",
       "      <th>50%</th>\n",
       "      <th>75%</th>\n",
       "      <th>max</th>\n",
       "    </tr>\n",
       "  </thead>\n",
       "  <tbody>\n",
       "    <tr>\n",
       "      <th>Speed</th>\n",
       "      <td>1002.0</td>\n",
       "      <td>0.000000</td>\n",
       "      <td>0.000000</td>\n",
       "      <td>0.00</td>\n",
       "      <td>0.00</td>\n",
       "      <td>0.00</td>\n",
       "      <td>0.00</td>\n",
       "      <td>0.00</td>\n",
       "    </tr>\n",
       "    <tr>\n",
       "      <th>RSRP</th>\n",
       "      <td>1002.0</td>\n",
       "      <td>-120.498004</td>\n",
       "      <td>1.186208</td>\n",
       "      <td>-124.00</td>\n",
       "      <td>-121.00</td>\n",
       "      <td>-121.00</td>\n",
       "      <td>-120.00</td>\n",
       "      <td>-118.00</td>\n",
       "    </tr>\n",
       "    <tr>\n",
       "      <th>RSRQ</th>\n",
       "      <td>1002.0</td>\n",
       "      <td>-17.284431</td>\n",
       "      <td>1.093043</td>\n",
       "      <td>-19.00</td>\n",
       "      <td>-18.00</td>\n",
       "      <td>-17.00</td>\n",
       "      <td>-17.00</td>\n",
       "      <td>-14.00</td>\n",
       "    </tr>\n",
       "    <tr>\n",
       "      <th>SNR</th>\n",
       "      <td>1002.0</td>\n",
       "      <td>-4.317365</td>\n",
       "      <td>1.994768</td>\n",
       "      <td>-7.00</td>\n",
       "      <td>-6.00</td>\n",
       "      <td>-5.00</td>\n",
       "      <td>-3.00</td>\n",
       "      <td>2.00</td>\n",
       "    </tr>\n",
       "    <tr>\n",
       "      <th>CQI</th>\n",
       "      <td>1002.0</td>\n",
       "      <td>6.143713</td>\n",
       "      <td>0.781470</td>\n",
       "      <td>5.00</td>\n",
       "      <td>6.00</td>\n",
       "      <td>6.00</td>\n",
       "      <td>6.00</td>\n",
       "      <td>9.00</td>\n",
       "    </tr>\n",
       "    <tr>\n",
       "      <th>RSSI</th>\n",
       "      <td>1002.0</td>\n",
       "      <td>-94.000000</td>\n",
       "      <td>0.000000</td>\n",
       "      <td>-94.00</td>\n",
       "      <td>-94.00</td>\n",
       "      <td>-94.00</td>\n",
       "      <td>-94.00</td>\n",
       "      <td>-94.00</td>\n",
       "    </tr>\n",
       "    <tr>\n",
       "      <th>DL_bitrate</th>\n",
       "      <td>1002.0</td>\n",
       "      <td>2146.469062</td>\n",
       "      <td>1194.885516</td>\n",
       "      <td>0.00</td>\n",
       "      <td>1353.00</td>\n",
       "      <td>1923.00</td>\n",
       "      <td>2684.00</td>\n",
       "      <td>8499.00</td>\n",
       "    </tr>\n",
       "    <tr>\n",
       "      <th>UL_bitrate</th>\n",
       "      <td>1002.0</td>\n",
       "      <td>50.083832</td>\n",
       "      <td>27.651010</td>\n",
       "      <td>0.00</td>\n",
       "      <td>31.00</td>\n",
       "      <td>45.00</td>\n",
       "      <td>62.00</td>\n",
       "      <td>220.00</td>\n",
       "    </tr>\n",
       "    <tr>\n",
       "      <th>ServingCell_Distance</th>\n",
       "      <td>1002.0</td>\n",
       "      <td>928.090000</td>\n",
       "      <td>0.000000</td>\n",
       "      <td>928.09</td>\n",
       "      <td>928.09</td>\n",
       "      <td>928.09</td>\n",
       "      <td>928.09</td>\n",
       "      <td>928.09</td>\n",
       "    </tr>\n",
       "  </tbody>\n",
       "</table>\n",
       "</div>"
      ],
      "text/plain": [
       "                       count         mean          std     min      25%  \\\n",
       "Speed                 1002.0     0.000000     0.000000    0.00     0.00   \n",
       "RSRP                  1002.0  -120.498004     1.186208 -124.00  -121.00   \n",
       "RSRQ                  1002.0   -17.284431     1.093043  -19.00   -18.00   \n",
       "SNR                   1002.0    -4.317365     1.994768   -7.00    -6.00   \n",
       "CQI                   1002.0     6.143713     0.781470    5.00     6.00   \n",
       "RSSI                  1002.0   -94.000000     0.000000  -94.00   -94.00   \n",
       "DL_bitrate            1002.0  2146.469062  1194.885516    0.00  1353.00   \n",
       "UL_bitrate            1002.0    50.083832    27.651010    0.00    31.00   \n",
       "ServingCell_Distance  1002.0   928.090000     0.000000  928.09   928.09   \n",
       "\n",
       "                          50%      75%      max  \n",
       "Speed                    0.00     0.00     0.00  \n",
       "RSRP                  -121.00  -120.00  -118.00  \n",
       "RSRQ                   -17.00   -17.00   -14.00  \n",
       "SNR                     -5.00    -3.00     2.00  \n",
       "CQI                      6.00     6.00     9.00  \n",
       "RSSI                   -94.00   -94.00   -94.00  \n",
       "DL_bitrate            1923.00  2684.00  8499.00  \n",
       "UL_bitrate              45.00    62.00   220.00  \n",
       "ServingCell_Distance   928.09   928.09   928.09  "
      ]
     },
     "execution_count": 11,
     "metadata": {},
     "output_type": "execute_result"
    }
   ],
   "source": [
    "df.describe().transpose()"
   ]
  },
  {
   "cell_type": "code",
   "execution_count": 12,
   "id": "d016896e",
   "metadata": {},
   "outputs": [
    {
     "data": {
      "text/html": [
       "<div>\n",
       "<style scoped>\n",
       "    .dataframe tbody tr th:only-of-type {\n",
       "        vertical-align: middle;\n",
       "    }\n",
       "\n",
       "    .dataframe tbody tr th {\n",
       "        vertical-align: top;\n",
       "    }\n",
       "\n",
       "    .dataframe thead th {\n",
       "        text-align: right;\n",
       "    }\n",
       "</style>\n",
       "<table border=\"1\" class=\"dataframe\">\n",
       "  <thead>\n",
       "    <tr style=\"text-align: right;\">\n",
       "      <th></th>\n",
       "      <th>count</th>\n",
       "      <th>mean</th>\n",
       "      <th>std</th>\n",
       "      <th>min</th>\n",
       "      <th>25%</th>\n",
       "      <th>50%</th>\n",
       "      <th>75%</th>\n",
       "      <th>max</th>\n",
       "    </tr>\n",
       "  </thead>\n",
       "  <tbody>\n",
       "    <tr>\n",
       "      <th>Speed</th>\n",
       "      <td>671.0</td>\n",
       "      <td>3.165425</td>\n",
       "      <td>0.805427</td>\n",
       "      <td>2.00</td>\n",
       "      <td>3.00</td>\n",
       "      <td>3.00</td>\n",
       "      <td>3.00</td>\n",
       "      <td>5.00</td>\n",
       "    </tr>\n",
       "    <tr>\n",
       "      <th>RSRP</th>\n",
       "      <td>671.0</td>\n",
       "      <td>-101.842027</td>\n",
       "      <td>8.311407</td>\n",
       "      <td>-131.00</td>\n",
       "      <td>-104.00</td>\n",
       "      <td>-101.00</td>\n",
       "      <td>-97.00</td>\n",
       "      <td>-84.00</td>\n",
       "    </tr>\n",
       "    <tr>\n",
       "      <th>RSRQ</th>\n",
       "      <td>671.0</td>\n",
       "      <td>-14.853949</td>\n",
       "      <td>2.200301</td>\n",
       "      <td>-21.00</td>\n",
       "      <td>-16.00</td>\n",
       "      <td>-15.00</td>\n",
       "      <td>-13.00</td>\n",
       "      <td>-8.00</td>\n",
       "    </tr>\n",
       "    <tr>\n",
       "      <th>SNR</th>\n",
       "      <td>671.0</td>\n",
       "      <td>-2.044709</td>\n",
       "      <td>4.269059</td>\n",
       "      <td>-12.00</td>\n",
       "      <td>-5.00</td>\n",
       "      <td>-2.00</td>\n",
       "      <td>1.00</td>\n",
       "      <td>9.00</td>\n",
       "    </tr>\n",
       "    <tr>\n",
       "      <th>CQI</th>\n",
       "      <td>671.0</td>\n",
       "      <td>6.146051</td>\n",
       "      <td>2.053641</td>\n",
       "      <td>1.00</td>\n",
       "      <td>5.00</td>\n",
       "      <td>6.00</td>\n",
       "      <td>7.00</td>\n",
       "      <td>12.00</td>\n",
       "    </tr>\n",
       "    <tr>\n",
       "      <th>RSSI</th>\n",
       "      <td>671.0</td>\n",
       "      <td>-83.788376</td>\n",
       "      <td>5.848581</td>\n",
       "      <td>-94.00</td>\n",
       "      <td>-87.00</td>\n",
       "      <td>-84.00</td>\n",
       "      <td>-80.00</td>\n",
       "      <td>-68.00</td>\n",
       "    </tr>\n",
       "    <tr>\n",
       "      <th>DL_bitrate</th>\n",
       "      <td>671.0</td>\n",
       "      <td>6253.157973</td>\n",
       "      <td>4733.792844</td>\n",
       "      <td>0.00</td>\n",
       "      <td>2829.00</td>\n",
       "      <td>5390.00</td>\n",
       "      <td>8013.00</td>\n",
       "      <td>28329.00</td>\n",
       "    </tr>\n",
       "    <tr>\n",
       "      <th>UL_bitrate</th>\n",
       "      <td>671.0</td>\n",
       "      <td>131.850969</td>\n",
       "      <td>99.472648</td>\n",
       "      <td>0.00</td>\n",
       "      <td>66.00</td>\n",
       "      <td>110.00</td>\n",
       "      <td>167.00</td>\n",
       "      <td>657.00</td>\n",
       "    </tr>\n",
       "    <tr>\n",
       "      <th>ServingCell_Distance</th>\n",
       "      <td>671.0</td>\n",
       "      <td>880.672370</td>\n",
       "      <td>1770.207633</td>\n",
       "      <td>114.92</td>\n",
       "      <td>388.32</td>\n",
       "      <td>424.76</td>\n",
       "      <td>899.37</td>\n",
       "      <td>11857.73</td>\n",
       "    </tr>\n",
       "  </tbody>\n",
       "</table>\n",
       "</div>"
      ],
      "text/plain": [
       "                      count         mean          std     min      25%  \\\n",
       "Speed                 671.0     3.165425     0.805427    2.00     3.00   \n",
       "RSRP                  671.0  -101.842027     8.311407 -131.00  -104.00   \n",
       "RSRQ                  671.0   -14.853949     2.200301  -21.00   -16.00   \n",
       "SNR                   671.0    -2.044709     4.269059  -12.00    -5.00   \n",
       "CQI                   671.0     6.146051     2.053641    1.00     5.00   \n",
       "RSSI                  671.0   -83.788376     5.848581  -94.00   -87.00   \n",
       "DL_bitrate            671.0  6253.157973  4733.792844    0.00  2829.00   \n",
       "UL_bitrate            671.0   131.850969    99.472648    0.00    66.00   \n",
       "ServingCell_Distance  671.0   880.672370  1770.207633  114.92   388.32   \n",
       "\n",
       "                          50%      75%       max  \n",
       "Speed                    3.00     3.00      5.00  \n",
       "RSRP                  -101.00   -97.00    -84.00  \n",
       "RSRQ                   -15.00   -13.00     -8.00  \n",
       "SNR                     -2.00     1.00      9.00  \n",
       "CQI                      6.00     7.00     12.00  \n",
       "RSSI                   -84.00   -80.00    -68.00  \n",
       "DL_bitrate            5390.00  8013.00  28329.00  \n",
       "UL_bitrate             110.00   167.00    657.00  \n",
       "ServingCell_Distance   424.76   899.37  11857.73  "
      ]
     },
     "execution_count": 12,
     "metadata": {},
     "output_type": "execute_result"
    }
   ],
   "source": [
    "dfw.describe().transpose()"
   ]
  },
  {
   "cell_type": "code",
   "execution_count": 13,
   "id": "58159c14",
   "metadata": {},
   "outputs": [
    {
     "data": {
      "text/html": [
       "<div>\n",
       "<style scoped>\n",
       "    .dataframe tbody tr th:only-of-type {\n",
       "        vertical-align: middle;\n",
       "    }\n",
       "\n",
       "    .dataframe tbody tr th {\n",
       "        vertical-align: top;\n",
       "    }\n",
       "\n",
       "    .dataframe thead th {\n",
       "        text-align: right;\n",
       "    }\n",
       "</style>\n",
       "<table border=\"1\" class=\"dataframe\">\n",
       "  <thead>\n",
       "    <tr style=\"text-align: right;\">\n",
       "      <th></th>\n",
       "      <th>count</th>\n",
       "      <th>mean</th>\n",
       "      <th>std</th>\n",
       "      <th>min</th>\n",
       "      <th>25%</th>\n",
       "      <th>50%</th>\n",
       "      <th>75%</th>\n",
       "      <th>max</th>\n",
       "    </tr>\n",
       "  </thead>\n",
       "  <tbody>\n",
       "    <tr>\n",
       "      <th>Speed</th>\n",
       "      <td>1648.0</td>\n",
       "      <td>39.662621</td>\n",
       "      <td>17.243434</td>\n",
       "      <td>0.00</td>\n",
       "      <td>37.00</td>\n",
       "      <td>43.0</td>\n",
       "      <td>55.00</td>\n",
       "      <td>60.00</td>\n",
       "    </tr>\n",
       "    <tr>\n",
       "      <th>RSRP</th>\n",
       "      <td>1648.0</td>\n",
       "      <td>-92.328277</td>\n",
       "      <td>8.694135</td>\n",
       "      <td>-122.00</td>\n",
       "      <td>-98.00</td>\n",
       "      <td>-92.0</td>\n",
       "      <td>-87.00</td>\n",
       "      <td>-64.00</td>\n",
       "    </tr>\n",
       "    <tr>\n",
       "      <th>RSRQ</th>\n",
       "      <td>1648.0</td>\n",
       "      <td>-11.362864</td>\n",
       "      <td>1.675388</td>\n",
       "      <td>-16.00</td>\n",
       "      <td>-12.00</td>\n",
       "      <td>-12.0</td>\n",
       "      <td>-10.00</td>\n",
       "      <td>-6.00</td>\n",
       "    </tr>\n",
       "    <tr>\n",
       "      <th>SNR</th>\n",
       "      <td>1648.0</td>\n",
       "      <td>11.015777</td>\n",
       "      <td>7.070535</td>\n",
       "      <td>-12.00</td>\n",
       "      <td>6.00</td>\n",
       "      <td>11.0</td>\n",
       "      <td>17.00</td>\n",
       "      <td>26.00</td>\n",
       "    </tr>\n",
       "    <tr>\n",
       "      <th>CQI</th>\n",
       "      <td>1648.0</td>\n",
       "      <td>9.847087</td>\n",
       "      <td>2.640981</td>\n",
       "      <td>3.00</td>\n",
       "      <td>8.00</td>\n",
       "      <td>10.0</td>\n",
       "      <td>12.00</td>\n",
       "      <td>15.00</td>\n",
       "    </tr>\n",
       "    <tr>\n",
       "      <th>RSSI</th>\n",
       "      <td>1648.0</td>\n",
       "      <td>-75.283981</td>\n",
       "      <td>9.372449</td>\n",
       "      <td>-94.00</td>\n",
       "      <td>-81.00</td>\n",
       "      <td>-75.0</td>\n",
       "      <td>-70.00</td>\n",
       "      <td>85.00</td>\n",
       "    </tr>\n",
       "    <tr>\n",
       "      <th>DL_bitrate</th>\n",
       "      <td>1648.0</td>\n",
       "      <td>27343.132888</td>\n",
       "      <td>15091.907875</td>\n",
       "      <td>0.00</td>\n",
       "      <td>16582.25</td>\n",
       "      <td>23967.0</td>\n",
       "      <td>34983.25</td>\n",
       "      <td>86888.00</td>\n",
       "    </tr>\n",
       "    <tr>\n",
       "      <th>UL_bitrate</th>\n",
       "      <td>1648.0</td>\n",
       "      <td>517.833738</td>\n",
       "      <td>278.747960</td>\n",
       "      <td>0.00</td>\n",
       "      <td>314.00</td>\n",
       "      <td>462.0</td>\n",
       "      <td>661.00</td>\n",
       "      <td>1577.00</td>\n",
       "    </tr>\n",
       "    <tr>\n",
       "      <th>ServingCell_Distance</th>\n",
       "      <td>1648.0</td>\n",
       "      <td>9809.389290</td>\n",
       "      <td>24319.223103</td>\n",
       "      <td>51.06</td>\n",
       "      <td>488.90</td>\n",
       "      <td>795.8</td>\n",
       "      <td>1032.16</td>\n",
       "      <td>100004.17</td>\n",
       "    </tr>\n",
       "  </tbody>\n",
       "</table>\n",
       "</div>"
      ],
      "text/plain": [
       "                       count          mean           std     min       25%  \\\n",
       "Speed                 1648.0     39.662621     17.243434    0.00     37.00   \n",
       "RSRP                  1648.0    -92.328277      8.694135 -122.00    -98.00   \n",
       "RSRQ                  1648.0    -11.362864      1.675388  -16.00    -12.00   \n",
       "SNR                   1648.0     11.015777      7.070535  -12.00      6.00   \n",
       "CQI                   1648.0      9.847087      2.640981    3.00      8.00   \n",
       "RSSI                  1648.0    -75.283981      9.372449  -94.00    -81.00   \n",
       "DL_bitrate            1648.0  27343.132888  15091.907875    0.00  16582.25   \n",
       "UL_bitrate            1648.0    517.833738    278.747960    0.00    314.00   \n",
       "ServingCell_Distance  1648.0   9809.389290  24319.223103   51.06    488.90   \n",
       "\n",
       "                          50%       75%        max  \n",
       "Speed                    43.0     55.00      60.00  \n",
       "RSRP                    -92.0    -87.00     -64.00  \n",
       "RSRQ                    -12.0    -10.00      -6.00  \n",
       "SNR                      11.0     17.00      26.00  \n",
       "CQI                      10.0     12.00      15.00  \n",
       "RSSI                    -75.0    -70.00      85.00  \n",
       "DL_bitrate            23967.0  34983.25   86888.00  \n",
       "UL_bitrate              462.0    661.00    1577.00  \n",
       "ServingCell_Distance    795.8   1032.16  100004.17  "
      ]
     },
     "execution_count": 13,
     "metadata": {},
     "output_type": "execute_result"
    }
   ],
   "source": [
    "dfc.describe().transpose()"
   ]
  },
  {
   "cell_type": "code",
   "execution_count": 14,
   "id": "02e1452e",
   "metadata": {},
   "outputs": [
    {
     "data": {
      "text/plain": [
       "Text(0.5, 1.0, 'Training and Validation Accuracy')"
      ]
     },
     "execution_count": 14,
     "metadata": {},
     "output_type": "execute_result"
    },
    {
     "data": {
      "image/png": "[encoded data removed]",
      "text/plain": [
       "<Figure size 576x432 with 1 Axes>"
      ]
     },
     "metadata": {
      "needs_background": "light"
     },
     "output_type": "display_data"
    }
   ],
   "source": [
    "acc = df['RSSI']\n",
    "val_acc = df['DL_bitrate']\n",
    "\n",
    "#plt.figure(figsize=(8, 8))\n",
    "#plt.subplot(2, 1, 1)\n",
    "plt.plot(acc, label='RSSI')\n",
    "plt.plot(val_acc, label='BitRate')\n",
    "plt.legend(loc='lower right')\n",
    "plt.ylabel('BitRate')\n",
    "#plt.ylim([min(plt.ylim()),1])\n",
    "plt.title('Training and Validation Accuracy')\n",
    "\n",
    "#plt.plot(df,[\"ServingCell_Distance\" \"DL_bitrate\"])\n"
   ]
  },
  {
   "cell_type": "code",
   "execution_count": 15,
   "id": "82080b6b",
   "metadata": {},
   "outputs": [
    {
     "data": {
      "text/plain": [
       "Text(0.5, 1.0, 'Training and Validation Accuracy')"
      ]
     },
     "execution_count": 15,
     "metadata": {},
     "output_type": "execute_result"
    },
    {
     "data": {
      "image/png": "[encoded data removed]",
      "text/plain": [
       "<Figure size 576x432 with 1 Axes>"
      ]
     },
     "metadata": {
      "needs_background": "light"
     },
     "output_type": "display_data"
    }
   ],
   "source": [
    "acc = dfw['RSSI']\n",
    "val_acc = dfw['DL_bitrate']\n",
    "\n",
    "#plt.figure(figsize=(8, 8))\n",
    "#plt.subplot(2, 1, 1)\n",
    "plt.plot(acc, label='RSSI')\n",
    "plt.plot(val_acc, label='BitRate')\n",
    "plt.legend(loc='lower right')\n",
    "plt.ylabel('BitRate')\n",
    "#plt.ylim([min(plt.ylim()),1])\n",
    "plt.title('Training and Validation Accuracy')"
   ]
  },
  {
   "cell_type": "code",
   "execution_count": 16,
   "id": "54caae58",
   "metadata": {},
   "outputs": [
    {
     "data": {
      "text/plain": [
       "Text(0.5, 1.0, 'Training and Validation Accuracy')"
      ]
     },
     "execution_count": 16,
     "metadata": {},
     "output_type": "execute_result"
    },
    {
     "data": {
      "image/png": "[encoded data removed]",
      "text/plain": [
       "<Figure size 576x432 with 1 Axes>"
      ]
     },
     "metadata": {
      "needs_background": "light"
     },
     "output_type": "display_data"
    }
   ],
   "source": [
    "acc = dfc['RSSI']\n",
    "val_acc = dfc['DL_bitrate']\n",
    "\n",
    "#plt.figure(figsize=(8, 8))\n",
    "#plt.subplot(2, 1, 1)\n",
    "plt.plot(acc, label='RSSI')\n",
    "plt.plot(val_acc, label='BitRate')\n",
    "plt.legend(loc='lower right')\n",
    "plt.ylabel('BitRate')\n",
    "#plt.ylim([min(plt.ylim()),1])\n",
    "plt.title('Training and Validation Accuracy')"
   ]
  },
  {
   "cell_type": "code",
   "execution_count": 17,
   "id": "716a3e98",
   "metadata": {},
   "outputs": [
    {
     "name": "stderr",
     "output_type": "stream",
     "text": [
      "/var/folders/9q/lpwrq5l50g30h13lqz5lfr3m0000gn/T/ipykernel_11625/355983258.py:12: UserWarning: Legend does not support 's' instances.\n",
      "A proxy artist may be used instead.\n",
      "See: https://matplotlib.org/users/legend_guide.html#creating-artists-specifically-for-adding-to-the-legend-aka-proxy-artists\n",
      "  plt.legend('snr1','snr2')\n",
      "/var/folders/9q/lpwrq5l50g30h13lqz5lfr3m0000gn/T/ipykernel_11625/355983258.py:12: UserWarning: Legend does not support 'n' instances.\n",
      "A proxy artist may be used instead.\n",
      "See: https://matplotlib.org/users/legend_guide.html#creating-artists-specifically-for-adding-to-the-legend-aka-proxy-artists\n",
      "  plt.legend('snr1','snr2')\n",
      "/var/folders/9q/lpwrq5l50g30h13lqz5lfr3m0000gn/T/ipykernel_11625/355983258.py:12: UserWarning: Legend does not support 'r' instances.\n",
      "A proxy artist may be used instead.\n",
      "See: https://matplotlib.org/users/legend_guide.html#creating-artists-specifically-for-adding-to-the-legend-aka-proxy-artists\n",
      "  plt.legend('snr1','snr2')\n",
      "/var/folders/9q/lpwrq5l50g30h13lqz5lfr3m0000gn/T/ipykernel_11625/355983258.py:12: UserWarning: Legend does not support '1' instances.\n",
      "A proxy artist may be used instead.\n",
      "See: https://matplotlib.org/users/legend_guide.html#creating-artists-specifically-for-adding-to-the-legend-aka-proxy-artists\n",
      "  plt.legend('snr1','snr2')\n"
     ]
    },
    {
     "data": {
      "image/png": "[encoded data removed]",
      "text/plain": [
       "<Figure size 576x432 with 1 Axes>"
      ]
     },
     "metadata": {
      "needs_background": "light"
     },
     "output_type": "display_data"
    }
   ],
   "source": [
    "missingData = timestamp_car\n",
    "snr1= dfc['ServingCell_Distance']\n",
    "plt.xlabel('Missing data (%)')\n",
    "plt.ylabel('SNR(dB)')\n",
    "#plot(missingData,snr1)\n",
    "\n",
    "missingData = timestamp_car\n",
    "snr2=dfc['DL_bitrate']\n",
    "plt.xlabel('Missing data (%)')\n",
    "plt.ylabel('SNR(dB)')\n",
    "#plot(missingData,snr2) \n",
    "plt.legend('snr1','snr2')\n",
    "\n",
    "plt.plot(missingData,snr1,missingData,snr2)\n",
    "\n",
    "plt.show()"
   ]
  },
  {
   "cell_type": "code",
   "execution_count": 18,
   "id": "30eddfbb",
   "metadata": {},
   "outputs": [],
   "source": [
    "minute = 60\n",
    "hour = 60*60\n",
    "\n",
    "df['Min sin'] = np.sin(timestamp_s * (2 * np.pi / minute))\n",
    "df['Min cos'] = np.cos(timestamp_s * (2 * np.pi / minute))\n",
    "df['Hour sin'] = np.sin(timestamp_s * (2 * np.pi / hour))\n",
    "df['Hour cos'] = np.cos(timestamp_s * (2 * np.pi / hour))"
   ]
  },
  {
   "cell_type": "code",
   "execution_count": 19,
   "id": "f07b8d7a",
   "metadata": {},
   "outputs": [
    {
     "name": "stdout",
     "output_type": "stream",
     "text": [
      "{'Speed': 0, 'RSRP': 1, 'RSRQ': 2, 'SNR': 3, 'CQI': 4, 'RSSI': 5, 'DL_bitrate': 6, 'UL_bitrate': 7, 'ServingCell_Distance': 8, 'Min sin': 9, 'Min cos': 10, 'Hour sin': 11, 'Hour cos': 12}\n"
     ]
    }
   ],
   "source": [
    "column_indices = {name: i for i, name in enumerate(df.columns)}\n",
    "\n",
    "n = len(df)\n",
    "train_df = df[0:int(n*0.7)]\n",
    "val_df = df[int(n*0.7):int(n*0.9)]\n",
    "test_df = df[int(n*0.9):]\n",
    "\n",
    "num_features = df.shape[1]\n",
    "\n",
    "print(column_indices)"
   ]
  },
  {
   "cell_type": "code",
   "execution_count": 20,
   "id": "f4b7a5b2",
   "metadata": {},
   "outputs": [
    {
     "data": {
      "text/plain": [
       "Text(0.5, 1.0, 'Time of day signal')"
      ]
     },
     "execution_count": 20,
     "metadata": {},
     "output_type": "execute_result"
    },
    {
     "data": {
      "image/png": "[encoded data removed]",
      "text/plain": [
       "<Figure size 576x432 with 1 Axes>"
      ]
     },
     "metadata": {
      "needs_background": "light"
     },
     "output_type": "display_data"
    }
   ],
   "source": [
    "plt.plot(np.array(df['Min sin'])[:25])\n",
    "plt.plot(np.array(df['Min cos'])[:25])\n",
    "plt.xlabel('Time [h]')\n",
    "plt.title('Time of day signal')"
   ]
  },
  {
   "cell_type": "code",
   "execution_count": 21,
   "id": "ac4e510e",
   "metadata": {},
   "outputs": [
    {
     "ename": "KeyError",
     "evalue": "'Battery'",
     "output_type": "error",
     "traceback": [
      "\u001b[0;31m---------------------------------------------------------------------------\u001b[0m",
      "\u001b[0;31mKeyError\u001b[0m                                  Traceback (most recent call last)",
      "File \u001b[0;32m/Library/Frameworks/Python.framework/Versions/3.8/lib/python3.8/site-packages/pandas/core/indexes/base.py:2898\u001b[0m, in \u001b[0;36mIndex.get_loc\u001b[0;34m(self, key, method, tolerance)\u001b[0m\n\u001b[1;32m   2897\u001b[0m \u001b[38;5;28;01mtry\u001b[39;00m:\n\u001b[0;32m-> 2898\u001b[0m     \u001b[38;5;28;01mreturn\u001b[39;00m \u001b[38;5;28;43mself\u001b[39;49m\u001b[38;5;241;43m.\u001b[39;49m\u001b[43m_engine\u001b[49m\u001b[38;5;241;43m.\u001b[39;49m\u001b[43mget_loc\u001b[49m\u001b[43m(\u001b[49m\u001b[43mcasted_key\u001b[49m\u001b[43m)\u001b[49m\n\u001b[1;32m   2899\u001b[0m \u001b[38;5;28;01mexcept\u001b[39;00m \u001b[38;5;167;01mKeyError\u001b[39;00m \u001b[38;5;28;01mas\u001b[39;00m err:\n",
      "File \u001b[0;32mpandas/_libs/index.pyx:70\u001b[0m, in \u001b[0;36mpandas._libs.index.IndexEngine.get_loc\u001b[0;34m()\u001b[0m\n",
      "File \u001b[0;32mpandas/_libs/index.pyx:101\u001b[0m, in \u001b[0;36mpandas._libs.index.IndexEngine.get_loc\u001b[0;34m()\u001b[0m\n",
      "File \u001b[0;32mpandas/_libs/hashtable_class_helper.pxi:1675\u001b[0m, in \u001b[0;36mpandas._libs.hashtable.PyObjectHashTable.get_item\u001b[0;34m()\u001b[0m\n",
      "File \u001b[0;32mpandas/_libs/hashtable_class_helper.pxi:1683\u001b[0m, in \u001b[0;36mpandas._libs.hashtable.PyObjectHashTable.get_item\u001b[0;34m()\u001b[0m\n",
      "\u001b[0;31mKeyError\u001b[0m: 'Battery'",
      "\nThe above exception was the direct cause of the following exception:\n",
      "\u001b[0;31mKeyError\u001b[0m                                  Traceback (most recent call last)",
      "Input \u001b[0;32mIn [21]\u001b[0m, in \u001b[0;36m<cell line: 1>\u001b[0;34m()\u001b[0m\n\u001b[0;32m----> 1\u001b[0m fft \u001b[38;5;241m=\u001b[39m tf\u001b[38;5;241m.\u001b[39msignal\u001b[38;5;241m.\u001b[39mrfft(\u001b[43mdf\u001b[49m\u001b[43m[\u001b[49m\u001b[38;5;124;43m'\u001b[39;49m\u001b[38;5;124;43mBattery\u001b[39;49m\u001b[38;5;124;43m'\u001b[39;49m\u001b[43m]\u001b[49m)\n",
      "File \u001b[0;32m/Library/Frameworks/Python.framework/Versions/3.8/lib/python3.8/site-packages/pandas/core/frame.py:2906\u001b[0m, in \u001b[0;36mDataFrame.__getitem__\u001b[0;34m(self, key)\u001b[0m\n\u001b[1;32m   2904\u001b[0m \u001b[38;5;28;01mif\u001b[39;00m \u001b[38;5;28mself\u001b[39m\u001b[38;5;241m.\u001b[39mcolumns\u001b[38;5;241m.\u001b[39mnlevels \u001b[38;5;241m>\u001b[39m \u001b[38;5;241m1\u001b[39m:\n\u001b[1;32m   2905\u001b[0m     \u001b[38;5;28;01mreturn\u001b[39;00m \u001b[38;5;28mself\u001b[39m\u001b[38;5;241m.\u001b[39m_getitem_multilevel(key)\n\u001b[0;32m-> 2906\u001b[0m indexer \u001b[38;5;241m=\u001b[39m \u001b[38;5;28;43mself\u001b[39;49m\u001b[38;5;241;43m.\u001b[39;49m\u001b[43mcolumns\u001b[49m\u001b[38;5;241;43m.\u001b[39;49m\u001b[43mget_loc\u001b[49m\u001b[43m(\u001b[49m\u001b[43mkey\u001b[49m\u001b[43m)\u001b[49m\n\u001b[1;32m   2907\u001b[0m \u001b[38;5;28;01mif\u001b[39;00m is_integer(indexer):\n\u001b[1;32m   2908\u001b[0m     indexer \u001b[38;5;241m=\u001b[39m [indexer]\n",
      "File \u001b[0;32m/Library/Frameworks/Python.framework/Versions/3.8/lib/python3.8/site-packages/pandas/core/indexes/base.py:2900\u001b[0m, in \u001b[0;36mIndex.get_loc\u001b[0;34m(self, key, method, tolerance)\u001b[0m\n\u001b[1;32m   2898\u001b[0m         \u001b[38;5;28;01mreturn\u001b[39;00m \u001b[38;5;28mself\u001b[39m\u001b[38;5;241m.\u001b[39m_engine\u001b[38;5;241m.\u001b[39mget_loc(casted_key)\n\u001b[1;32m   2899\u001b[0m     \u001b[38;5;28;01mexcept\u001b[39;00m \u001b[38;5;167;01mKeyError\u001b[39;00m \u001b[38;5;28;01mas\u001b[39;00m err:\n\u001b[0;32m-> 2900\u001b[0m         \u001b[38;5;28;01mraise\u001b[39;00m \u001b[38;5;167;01mKeyError\u001b[39;00m(key) \u001b[38;5;28;01mfrom\u001b[39;00m \u001b[38;5;21;01merr\u001b[39;00m\n\u001b[1;32m   2902\u001b[0m \u001b[38;5;28;01mif\u001b[39;00m tolerance \u001b[38;5;129;01mis\u001b[39;00m \u001b[38;5;129;01mnot\u001b[39;00m \u001b[38;5;28;01mNone\u001b[39;00m:\n\u001b[1;32m   2903\u001b[0m     tolerance \u001b[38;5;241m=\u001b[39m \u001b[38;5;28mself\u001b[39m\u001b[38;5;241m.\u001b[39m_convert_tolerance(tolerance, np\u001b[38;5;241m.\u001b[39masarray(key))\n",
      "\u001b[0;31mKeyError\u001b[0m: 'Battery'"
     ]
    }
   ],
   "source": [
    "fft = tf.signal.rfft(df['RSSI'])\n",
    "fft = tf.signal.rfft(df['Wi-Fi RSSI Level'])\n"
   ]
  },
  {
   "cell_type": "code",
   "execution_count": null,
   "id": "2be1c04a",
   "metadata": {},
   "outputs": [],
   "source": [
    "column_indices = {name: i for i, name in enumerate(df.columns)}\n",
    "\n",
    "n = len(df)\n",
    "train_df = df[0:int(n*0.7)]\n",
    "val_df = df[int(n*0.7):int(n*0.9)]\n",
    "test_df = df[int(n*0.9):]\n",
    "\n",
    "num_features = df.shape[1]\n",
    "print(column_indices)"
   ]
  },
  {
   "cell_type": "code",
   "execution_count": null,
   "id": "17fbfaa9",
   "metadata": {},
   "outputs": [],
   "source": [
    "train_mean = train_df.mean()\n",
    "train_std = train_df.std()\n",
    "\n",
    "train_df = (train_df - train_mean) / train_std\n",
    "val_df = (val_df - train_mean) / train_std\n",
    "test_df = (test_df - train_mean) / train_std"
   ]
  },
  {
   "cell_type": "code",
   "execution_count": null,
   "id": "ec978438",
   "metadata": {},
   "outputs": [],
   "source": [
    "df_std = (df - train_mean) / train_std\n",
    "df_std = df_std.melt(var_name='Column', value_name='Normalized')\n",
    "plt.figure(figsize=(12, 6))\n",
    "ax = sns.violinplot(x='Column', y='Normalized', data=df_std)\n",
    "_ = ax.set_xticklabels(df.keys(), rotation=90)"
   ]
  },
  {
   "cell_type": "code",
   "execution_count": null,
   "id": "508280af",
   "metadata": {},
   "outputs": [],
   "source": [
    "class WindowGenerator():\n",
    "  def __init__(self, input_width, label_width, shift,\n",
    "               train_df=train_df, val_df=val_df, test_df=test_df,\n",
    "               label_columns=None):\n",
    "    # Store the raw data.\n",
    "    self.train_df = train_df\n",
    "    self.val_df = val_df\n",
    "    self.test_df = test_df\n",
    "\n",
    "    # Work out the label column indices.\n",
    "    self.label_columns = label_columns\n",
    "    if label_columns is not None:\n",
    "      self.label_columns_indices = {name: i for i, name in\n",
    "                                    enumerate(label_columns)}\n",
    "    self.column_indices = {name: i for i, name in\n",
    "                           enumerate(train_df.columns)}\n",
    "\n",
    "    # Work out the window parameters.\n",
    "    self.input_width = input_width\n",
    "    self.label_width = label_width\n",
    "    self.shift = shift\n",
    "\n",
    "    self.total_window_size = input_width + shift\n",
    "\n",
    "    self.input_slice = slice(0, input_width)\n",
    "    self.input_indices = np.arange(self.total_window_size)[self.input_slice]\n",
    "\n",
    "    self.label_start = self.total_window_size - self.label_width\n",
    "    self.labels_slice = slice(self.label_start, None)\n",
    "    self.label_indices = np.arange(self.total_window_size)[self.labels_slice]\n",
    "\n",
    "  def __repr__(self):\n",
    "    return '\\n'.join([\n",
    "        f'Total window size: {self.total_window_size}',\n",
    "        f'Input indices: {self.input_indices}',\n",
    "        f'Label indices: {self.label_indices}',\n",
    "        f'Label column name(s): {self.label_columns}'])"
   ]
  },
  {
   "cell_type": "code",
   "execution_count": 22,
   "id": "0b3bca1f",
   "metadata": {},
   "outputs": [
    {
     "ename": "NameError",
     "evalue": "name 'WindowGenerator' is not defined",
     "output_type": "error",
     "traceback": [
      "\u001b[0;31m---------------------------------------------------------------------------\u001b[0m",
      "\u001b[0;31mNameError\u001b[0m                                 Traceback (most recent call last)",
      "Input \u001b[0;32mIn [22]\u001b[0m, in \u001b[0;36m<cell line: 1>\u001b[0;34m()\u001b[0m\n\u001b[0;32m----> 1\u001b[0m w1 \u001b[38;5;241m=\u001b[39m \u001b[43mWindowGenerator\u001b[49m(input_width\u001b[38;5;241m=\u001b[39m\u001b[38;5;241m24\u001b[39m, label_width\u001b[38;5;241m=\u001b[39m\u001b[38;5;241m1\u001b[39m, shift\u001b[38;5;241m=\u001b[39m\u001b[38;5;241m24\u001b[39m,\n\u001b[1;32m      2\u001b[0m                      label_columns\u001b[38;5;241m=\u001b[39m[\u001b[38;5;124m'\u001b[39m\u001b[38;5;124mBattery\u001b[39m\u001b[38;5;124m'\u001b[39m])\n\u001b[1;32m      3\u001b[0m w1\n",
      "\u001b[0;31mNameError\u001b[0m: name 'WindowGenerator' is not defined"
     ]
    }
   ],
   "source": [
    "w1 = WindowGenerator(input_width=24, label_width=1, shift=24,\n",
    "                     label_columns=['Battery'])\n",
    "w1"
   ]
  },
  {
   "cell_type": "code",
   "execution_count": 23,
   "id": "1e590bb4",
   "metadata": {},
   "outputs": [
    {
     "ename": "NameError",
     "evalue": "name 'WindowGenerator' is not defined",
     "output_type": "error",
     "traceback": [
      "\u001b[0;31m---------------------------------------------------------------------------\u001b[0m",
      "\u001b[0;31mNameError\u001b[0m                                 Traceback (most recent call last)",
      "Input \u001b[0;32mIn [23]\u001b[0m, in \u001b[0;36m<cell line: 1>\u001b[0;34m()\u001b[0m\n\u001b[0;32m----> 1\u001b[0m w2 \u001b[38;5;241m=\u001b[39m \u001b[43mWindowGenerator\u001b[49m(input_width\u001b[38;5;241m=\u001b[39m\u001b[38;5;241m6\u001b[39m, label_width\u001b[38;5;241m=\u001b[39m\u001b[38;5;241m1\u001b[39m, shift\u001b[38;5;241m=\u001b[39m\u001b[38;5;241m1\u001b[39m,\n\u001b[1;32m      2\u001b[0m                      label_columns\u001b[38;5;241m=\u001b[39m[\u001b[38;5;124m'\u001b[39m\u001b[38;5;124mBattery\u001b[39m\u001b[38;5;124m'\u001b[39m])\n\u001b[1;32m      3\u001b[0m w2\n",
      "\u001b[0;31mNameError\u001b[0m: name 'WindowGenerator' is not defined"
     ]
    }
   ],
   "source": [
    "w2 = WindowGenerator(input_width=6, label_width=1, shift=1,\n",
    "                     label_columns=['Battery'])\n",
    "w2"
   ]
  },
  {
   "cell_type": "code",
   "execution_count": 24,
   "id": "aea12d03",
   "metadata": {},
   "outputs": [
    {
     "ename": "NameError",
     "evalue": "name 'WindowGenerator' is not defined",
     "output_type": "error",
     "traceback": [
      "\u001b[0;31m---------------------------------------------------------------------------\u001b[0m",
      "\u001b[0;31mNameError\u001b[0m                                 Traceback (most recent call last)",
      "Input \u001b[0;32mIn [24]\u001b[0m, in \u001b[0;36m<cell line: 16>\u001b[0;34m()\u001b[0m\n\u001b[1;32m     12\u001b[0m   labels\u001b[38;5;241m.\u001b[39mset_shape([\u001b[38;5;28;01mNone\u001b[39;00m, \u001b[38;5;28mself\u001b[39m\u001b[38;5;241m.\u001b[39mlabel_width, \u001b[38;5;28;01mNone\u001b[39;00m])\n\u001b[1;32m     14\u001b[0m   \u001b[38;5;28;01mreturn\u001b[39;00m inputs, labels\n\u001b[0;32m---> 16\u001b[0m \u001b[43mWindowGenerator\u001b[49m\u001b[38;5;241m.\u001b[39msplit_window \u001b[38;5;241m=\u001b[39m split_window\n",
      "\u001b[0;31mNameError\u001b[0m: name 'WindowGenerator' is not defined"
     ]
    }
   ],
   "source": [
    "def split_window(self, features):\n",
    "  inputs = features[:, self.input_slice, :]\n",
    "  labels = features[:, self.labels_slice, :]\n",
    "  if self.label_columns is not None:\n",
    "    labels = tf.stack(\n",
    "        [labels[:, :, self.column_indices[name]] for name in self.label_columns],\n",
    "        axis=-1)\n",
    "\n",
    "  # Slicing doesn't preserve static shape information, so set the shapes\n",
    "  # manually. This way the `tf.data.Datasets` are easier to inspect.\n",
    "  inputs.set_shape([None, self.input_width, None])\n",
    "  labels.set_shape([None, self.label_width, None])\n",
    "\n",
    "  return inputs, labels\n",
    "\n",
    "WindowGenerator.split_window = split_window"
   ]
  },
  {
   "cell_type": "code",
   "execution_count": 25,
   "id": "722b9f5e",
   "metadata": {},
   "outputs": [
    {
     "ename": "NameError",
     "evalue": "name 'w2' is not defined",
     "output_type": "error",
     "traceback": [
      "\u001b[0;31m---------------------------------------------------------------------------\u001b[0m",
      "\u001b[0;31mNameError\u001b[0m                                 Traceback (most recent call last)",
      "Input \u001b[0;32mIn [25]\u001b[0m, in \u001b[0;36m<cell line: 1>\u001b[0;34m()\u001b[0m\n\u001b[0;32m----> 1\u001b[0m \u001b[43mw2\u001b[49m\u001b[38;5;241m.\u001b[39mtotal_window_size\n",
      "\u001b[0;31mNameError\u001b[0m: name 'w2' is not defined"
     ]
    }
   ],
   "source": [
    "w2.total_window_size"
   ]
  },
  {
   "cell_type": "code",
   "execution_count": null,
   "id": "01bf241d",
   "metadata": {},
   "outputs": [],
   "source": [
    "# Stack three slices, the length of the total window.\n",
    "example_window = tf.stack([np.array(train_df[:w2.total_window_size]),\n",
    "                           np.array(train_df[100:100+w2.total_window_size]),\n",
    "                           np.array(train_df[200:200+w2.total_window_size])])\n",
    "\n",
    "example_inputs, example_labels = w2.split_window(example_window)\n",
    "\n",
    "print('All shapes are: (batch, time, features)')\n",
    "print(f'Window shape: {example_window.shape}')\n",
    "print(f'Inputs shape: {example_inputs.shape}')\n",
    "print(f'Labels shape: {example_labels.shape}')"
   ]
  },
  {
   "cell_type": "code",
   "execution_count": null,
   "id": "ceb2ac66",
   "metadata": {},
   "outputs": [],
   "source": [
    "w2.example = example_inputs, example_labels"
   ]
  },
  {
   "cell_type": "code",
   "execution_count": null,
   "id": "609defc5",
   "metadata": {},
   "outputs": [],
   "source": [
    "def plot(self, model=None, plot_col='Battery', max_subplots=3):\n",
    "  inputs, labels = self.example\n",
    "  plt.figure(figsize=(12, 8))\n",
    "  plot_col_index = self.column_indices[plot_col]\n",
    "  max_n = min(max_subplots, len(inputs))\n",
    "  for n in range(max_n):\n",
    "    plt.subplot(max_n, 1, n+1)\n",
    "    plt.ylabel(f'{plot_col} [normed]')\n",
    "    plt.plot(self.input_indices, inputs[n, :, plot_col_index],\n",
    "             label='Inputs', marker='.', zorder=-10)\n",
    "\n",
    "    if self.label_columns:\n",
    "      label_col_index = self.label_columns_indices.get(plot_col, None)\n",
    "    else:\n",
    "      label_col_index = plot_col_index\n",
    "\n",
    "    if label_col_index is None:\n",
    "      continue\n",
    "\n",
    "    plt.scatter(self.label_indices, labels[n, :, label_col_index],\n",
    "                edgecolors='k', label='Labels', c='#2ca02c', s=64)\n",
    "    if model is not None:\n",
    "      predictions = model(inputs)\n",
    "      plt.scatter(self.label_indices, predictions[n, :, label_col_index],\n",
    "                  marker='X', edgecolors='k', label='Predictions',\n",
    "                  c='#ff7f0e', s=64)\n",
    "\n",
    "    if n == 0:\n",
    "      plt.legend()\n",
    "\n",
    "  plt.xlabel('Time')\n",
    "\n",
    "WindowGenerator.plot = plot"
   ]
  },
  {
   "cell_type": "code",
   "execution_count": null,
   "id": "ee36cf5c",
   "metadata": {},
   "outputs": [],
   "source": [
    "w2.plot()"
   ]
  },
  {
   "cell_type": "code",
   "execution_count": null,
   "id": "e7e0e741",
   "metadata": {},
   "outputs": [],
   "source": [
    "w2.plot(plot_col='CPU Frequency')"
   ]
  },
  {
   "cell_type": "code",
   "execution_count": null,
   "id": "956c66c1",
   "metadata": {},
   "outputs": [],
   "source": [
    "def make_dataset(self, data):\n",
    "  data = np.array(data, dtype=np.float32)\n",
    "  ds = tf.keras.utils.timeseries_dataset_from_array(\n",
    "      data=data,\n",
    "      targets=None,\n",
    "      sequence_length=self.total_window_size,\n",
    "      sequence_stride=1,\n",
    "      shuffle=True,\n",
    "      batch_size=32,)\n",
    "\n",
    "  ds = ds.map(self.split_window)\n",
    "\n",
    "  return ds\n",
    "\n",
    "WindowGenerator.make_dataset = make_dataset"
   ]
  },
  {
   "cell_type": "code",
   "execution_count": null,
   "id": "aa0232cc",
   "metadata": {},
   "outputs": [],
   "source": [
    "@property\n",
    "def train(self):\n",
    "  return self.make_dataset(self.train_df)\n",
    "\n",
    "@property\n",
    "def val(self):\n",
    "  return self.make_dataset(self.val_df)\n",
    "\n",
    "@property\n",
    "def test(self):\n",
    "  return self.make_dataset(self.test_df)\n",
    "\n",
    "@property\n",
    "def example(self):\n",
    "  \"\"\"Get and cache an example batch of `inputs, labels` for plotting.\"\"\"\n",
    "  result = getattr(self, '_example', None)\n",
    "  if result is None:\n",
    "    # No example batch was found, so get one from the `.train` dataset\n",
    "    result = next(iter(self.train))\n",
    "    # And cache it for next time\n",
    "    self._example = result\n",
    "  return result\n",
    "\n",
    "WindowGenerator.train = train\n",
    "WindowGenerator.val = val\n",
    "WindowGenerator.test = test\n",
    "WindowGenerator.example = example"
   ]
  },
  {
   "cell_type": "code",
   "execution_count": null,
   "id": "1021d986",
   "metadata": {},
   "outputs": [],
   "source": [
    "w2.train.element_spec"
   ]
  },
  {
   "cell_type": "code",
   "execution_count": null,
   "id": "b220404c",
   "metadata": {},
   "outputs": [],
   "source": [
    "for example_inputs, example_labels in w2.train.take(1):\n",
    "  print(f'Inputs shape (batch, time, features): {example_inputs.shape}')\n",
    "  print(f'Labels shape (batch, time, features): {example_labels.shape}')"
   ]
  },
  {
   "cell_type": "code",
   "execution_count": null,
   "id": "144770da",
   "metadata": {},
   "outputs": [],
   "source": [
    "single_step_window = WindowGenerator(\n",
    "    input_width=1, label_width=1, shift=1,\n",
    "    label_columns=['Battery'])\n",
    "single_step_window"
   ]
  },
  {
   "cell_type": "code",
   "execution_count": null,
   "id": "6e8b6085",
   "metadata": {},
   "outputs": [],
   "source": [
    "for example_inputs, example_labels in single_step_window.train.take(1):\n",
    "  print(f'Inputs shape (batch, time, features): {example_inputs.shape}')\n",
    "  print(f'Labels shape (batch, time, features): {example_labels.shape}')"
   ]
  },
  {
   "cell_type": "code",
   "execution_count": null,
   "id": "d7cd9f6f",
   "metadata": {},
   "outputs": [],
   "source": [
    "class Baseline(tf.keras.Model):\n",
    "  def __init__(self, label_index=None):\n",
    "    super().__init__()\n",
    "    self.label_index = label_index\n",
    "\n",
    "  def call(self, inputs):\n",
    "    if self.label_index is None:\n",
    "      return inputs\n",
    "    result = inputs[:, :, self.label_index]\n",
    "    return result[:, :, tf.newaxis]"
   ]
  },
  {
   "cell_type": "code",
   "execution_count": null,
   "id": "1185d851",
   "metadata": {},
   "outputs": [],
   "source": [
    "baseline = Baseline(label_index=column_indices['Battery'])\n",
    "\n",
    "baseline.compile(loss=tf.losses.MeanSquaredError(),\n",
    "                 metrics=[tf.metrics.MeanAbsoluteError()])\n",
    "\n",
    "val_performance = {}\n",
    "performance = {}\n",
    "val_performance['Baseline'] = baseline.evaluate(single_step_window.val)\n",
    "performance['Baseline'] = baseline.evaluate(single_step_window.test, verbose=0)"
   ]
  },
  {
   "cell_type": "code",
   "execution_count": null,
   "id": "3814b5f4",
   "metadata": {},
   "outputs": [],
   "source": [
    "wide_window = WindowGenerator(\n",
    "    input_width=30, label_width=30, shift=2,\n",
    "    label_columns=['Battery'])\n",
    "\n",
    "wide_window"
   ]
  },
  {
   "cell_type": "code",
   "execution_count": null,
   "id": "e090b6e9",
   "metadata": {},
   "outputs": [],
   "source": [
    "wide_window.plot(baseline)"
   ]
  },
  {
   "cell_type": "code",
   "execution_count": null,
   "id": "8d426abd",
   "metadata": {},
   "outputs": [],
   "source": [
    "linear = tf.keras.Sequential([\n",
    "    tf.keras.layers.Dense(units=1)\n",
    "])"
   ]
  },
  {
   "cell_type": "code",
   "execution_count": null,
   "id": "1dae0760",
   "metadata": {},
   "outputs": [],
   "source": [
    "print(linear._get_trainable_state())"
   ]
  },
  {
   "cell_type": "code",
   "execution_count": null,
   "id": "bbefffa4",
   "metadata": {},
   "outputs": [],
   "source": [
    "print('Input shape:', single_step_window.example[0].shape)\n",
    "print('Output shape:', linear(single_step_window.example[0]).shape)"
   ]
  },
  {
   "cell_type": "code",
   "execution_count": null,
   "id": "7c6151ca",
   "metadata": {},
   "outputs": [],
   "source": [
    "linear.summary()"
   ]
  },
  {
   "cell_type": "code",
   "execution_count": null,
   "id": "6e5c091c",
   "metadata": {},
   "outputs": [],
   "source": [
    "MAX_EPOCHS = 200\n",
    "\n",
    "def compile_and_fit(model, window, patience=20):\n",
    "  early_stopping = tf.keras.callbacks.EarlyStopping(monitor='val_loss',\n",
    "                                                    patience=patience,\n",
    "                                                    mode='min')\n",
    "\n",
    "  model.compile(loss=tf.losses.MeanSquaredError(),\n",
    "                optimizer=tf.optimizers.Adam(),\n",
    "                metrics=[tf.metrics.MeanAbsoluteError()])\n",
    "\n",
    "  history = model.fit(window.train, epochs=MAX_EPOCHS,\n",
    "                      validation_data=window.val,\n",
    "                      callbacks=[early_stopping])\n",
    "  return history"
   ]
  },
  {
   "cell_type": "code",
   "execution_count": null,
   "id": "904e3810",
   "metadata": {},
   "outputs": [],
   "source": [
    "history = compile_and_fit(linear, single_step_window)\n",
    "\n",
    "val_performance['Linear'] = linear.evaluate(single_step_window.val)\n",
    "performance['Linear'] = linear.evaluate(single_step_window.test, verbose=0)"
   ]
  },
  {
   "cell_type": "code",
   "execution_count": null,
   "id": "422cb103",
   "metadata": {},
   "outputs": [],
   "source": [
    "print('Input shape:', wide_window.example[0].shape)\n",
    "print('Output shape:', baseline(wide_window.example[0]).shape)"
   ]
  },
  {
   "cell_type": "code",
   "execution_count": null,
   "id": "a6ce6026",
   "metadata": {},
   "outputs": [],
   "source": [
    "wide_window.plot(linear)"
   ]
  },
  {
   "cell_type": "code",
   "execution_count": null,
   "id": "6e03ebeb",
   "metadata": {},
   "outputs": [],
   "source": [
    "plt.bar(x = range(len(train_df.columns)),\n",
    "        height=linear.layers[0].kernel[:,0].numpy())\n",
    "axis = plt.gca()\n",
    "axis.set_xticks(range(len(train_df.columns)))\n",
    "_ = axis.set_xticklabels(train_df.columns, rotation=90)"
   ]
  },
  {
   "cell_type": "code",
   "execution_count": null,
   "id": "f3fd14b0",
   "metadata": {},
   "outputs": [],
   "source": [
    "dense = tf.keras.Sequential([\n",
    "    tf.keras.layers.Dense(units=64, activation='relu'),\n",
    "    tf.keras.layers.Dense(units=64, activation='relu'),\n",
    "    tf.keras.layers.Dense(units=1)\n",
    "])\n",
    "\n",
    "history = compile_and_fit(dense, single_step_window)\n",
    "\n",
    "val_performance['Dense'] = dense.evaluate(single_step_window.val)\n",
    "performance['Dense'] = dense.evaluate(single_step_window.test, verbose=0)"
   ]
  },
  {
   "cell_type": "code",
   "execution_count": null,
   "id": "6d6585ee",
   "metadata": {},
   "outputs": [],
   "source": [
    "CONV_WIDTH = 30\n",
    "conv_window = WindowGenerator(\n",
    "    input_width=CONV_WIDTH,\n",
    "    label_width=1,\n",
    "    shift=1,\n",
    "    label_columns=['Battery'])\n",
    "\n",
    "conv_window"
   ]
  },
  {
   "cell_type": "code",
   "execution_count": null,
   "id": "3d574584",
   "metadata": {},
   "outputs": [],
   "source": [
    "conv_window.plot()\n",
    "plt.title(\"Given 3 hours of inputs, predict 1 hour into the future.\")"
   ]
  },
  {
   "cell_type": "code",
   "execution_count": null,
   "id": "c31e299e",
   "metadata": {},
   "outputs": [],
   "source": [
    "multi_step_dense = tf.keras.Sequential([\n",
    "    # Shape: (time, features) => (time*features)\n",
    "    tf.keras.layers.Flatten(),\n",
    "    tf.keras.layers.Dense(units=128, activation='relu'),\n",
    "    tf.keras.layers.Dense(units=128, activation='relu'),\n",
    "    tf.keras.layers.Dense(units=1),\n",
    "    # Add back the time dimension.\n",
    "    # Shape: (outputs) => (1, outputs)\n",
    "    tf.keras.layers.Reshape([1, -1]),\n",
    "])"
   ]
  },
  {
   "cell_type": "code",
   "execution_count": null,
   "id": "e8ae8dcf",
   "metadata": {},
   "outputs": [],
   "source": [
    "print('Input shape:', conv_window.example[0].shape)\n",
    "print('Output shape:', multi_step_dense(conv_window.example[0]).shape)"
   ]
  },
  {
   "cell_type": "code",
   "execution_count": null,
   "id": "3918f6bb",
   "metadata": {},
   "outputs": [],
   "source": [
    "history = compile_and_fit(multi_step_dense, conv_window)\n",
    "IPython.display.clear_output()\n",
    "val_performance['Multi step dense'] = multi_step_dense.evaluate(conv_window.val)\n",
    "performance['Multi step dense'] = multi_step_dense.evaluate(conv_window.test, verbose=0)"
   ]
  },
  {
   "cell_type": "code",
   "execution_count": null,
   "id": "76afab1a",
   "metadata": {},
   "outputs": [],
   "source": [
    "conv_window.plot(multi_step_dense)"
   ]
  },
  {
   "cell_type": "code",
   "execution_count": null,
   "id": "f36585c2",
   "metadata": {},
   "outputs": [],
   "source": [
    "print('Input shape:', wide_window.example[0].shape)\n",
    "try:\n",
    "  print('Output shape:', multi_step_dense(wide_window.example[0]).shape)\n",
    "except Exception as e:\n",
    "  print(f'\\n{type(e).__name__}:{e}')"
   ]
  },
  {
   "cell_type": "code",
   "execution_count": null,
   "id": "24103f11",
   "metadata": {},
   "outputs": [],
   "source": [
    "conv_model = tf.keras.Sequential([\n",
    "    tf.keras.layers.Conv1D(filters=32,\n",
    "                           kernel_size=(CONV_WIDTH,),\n",
    "                           activation='relu'),\n",
    "    tf.keras.layers.Dense(units=32, activation='relu'),\n",
    "    tf.keras.layers.Dense(units=1),\n",
    "])"
   ]
  },
  {
   "cell_type": "code",
   "execution_count": null,
   "id": "bc49901a",
   "metadata": {},
   "outputs": [],
   "source": [
    "print(\"Conv model on `conv_window`\")\n",
    "print('Input shape:', conv_window.example[0].shape)\n",
    "print('Output shape:', conv_model(conv_window.example[0]).shape)"
   ]
  },
  {
   "cell_type": "code",
   "execution_count": null,
   "id": "1bb4a9c0",
   "metadata": {},
   "outputs": [],
   "source": [
    "history = compile_and_fit(conv_model, conv_window)\n",
    "\n",
    "IPython.display.clear_output()\n",
    "val_performance['Conv'] = conv_model.evaluate(conv_window.val)\n",
    "performance['Conv'] = conv_model.evaluate(conv_window.test, verbose=0)"
   ]
  },
  {
   "cell_type": "code",
   "execution_count": null,
   "id": "886b0c0a",
   "metadata": {},
   "outputs": [],
   "source": [
    "print(\"Wide window\")\n",
    "print('Input shape:', wide_window.example[0].shape)\n",
    "print('Labels shape:', wide_window.example[1].shape)\n",
    "print('Output shape:', conv_model(wide_window.example[0]).shape)"
   ]
  },
  {
   "cell_type": "code",
   "execution_count": null,
   "id": "5ce5ce19",
   "metadata": {},
   "outputs": [],
   "source": [
    "LABEL_WIDTH = 24\n",
    "INPUT_WIDTH = LABEL_WIDTH + (CONV_WIDTH - 1)\n",
    "wide_conv_window = WindowGenerator(\n",
    "    input_width=INPUT_WIDTH,\n",
    "    label_width=LABEL_WIDTH,\n",
    "    shift=1,\n",
    "    label_columns=['Battery'])\n",
    "\n",
    "wide_conv_window"
   ]
  },
  {
   "cell_type": "code",
   "execution_count": null,
   "id": "03bf2f48",
   "metadata": {},
   "outputs": [],
   "source": [
    "print(\"Wide conv window\")\n",
    "print('Input shape:', wide_conv_window.example[0].shape)\n",
    "print('Labels shape:', wide_conv_window.example[1].shape)\n",
    "print('Output shape:', conv_model(wide_conv_window.example[0]).shape)"
   ]
  },
  {
   "cell_type": "code",
   "execution_count": null,
   "id": "9d8ecac6",
   "metadata": {},
   "outputs": [],
   "source": [
    "wide_conv_window.plot(conv_model)"
   ]
  },
  {
   "cell_type": "code",
   "execution_count": null,
   "id": "7176f88f",
   "metadata": {},
   "outputs": [],
   "source": [
    "lstm_model = tf.keras.models.Sequential([\n",
    "    # Shape [batch, time, features] => [batch, time, lstm_units]\n",
    "    tf.keras.layers.LSTM(32, return_sequences=True),\n",
    "    # Shape => [batch, time, features]\n",
    "    tf.keras.layers.Dense(units=1)\n",
    "])"
   ]
  },
  {
   "cell_type": "code",
   "execution_count": null,
   "id": "dca9ecdc",
   "metadata": {},
   "outputs": [],
   "source": [
    "print('Input shape:', wide_window.example[0].shape)\n",
    "print('Output shape:', lstm_model(wide_window.example[0]).shape)"
   ]
  },
  {
   "cell_type": "code",
   "execution_count": null,
   "id": "3a853bbf",
   "metadata": {},
   "outputs": [],
   "source": [
    "history = compile_and_fit(lstm_model, wide_window)\n",
    "#lstm_model.save('lstm_model.pt')\n",
    "IPython.display.clear_output()\n",
    "val_performance['LSTM'] = lstm_model.evaluate(wide_window.val)\n",
    "performance['LSTM'] = lstm_model.evaluate(wide_window.test, verbose=0)"
   ]
  },
  {
   "cell_type": "code",
   "execution_count": null,
   "id": "36ce6c85",
   "metadata": {},
   "outputs": [],
   "source": [
    "wide_window.plot(lstm_model)"
   ]
  },
  {
   "cell_type": "code",
   "execution_count": null,
   "id": "ce00f0ee",
   "metadata": {},
   "outputs": [],
   "source": [
    "x = np.arange(len(performance))\n",
    "width = 0.3\n",
    "metric_name = 'mean_absolute_error'\n",
    "metric_index = lstm_model.metrics_names.index('mean_absolute_error')\n",
    "val_mae = [v[metric_index] for v in val_performance.values()]\n",
    "test_mae = [v[metric_index] for v in performance.values()]\n",
    "\n",
    "plt.ylabel('mean_absolute_error [Battery, normalized]')\n",
    "plt.bar(x - 0.17, val_mae, width, label='Validation')\n",
    "plt.bar(x + 0.17, test_mae, width, label='Test')\n",
    "plt.xticks(ticks=x, labels=performance.keys(),\n",
    "           rotation=45)\n",
    "_ = plt.legend()"
   ]
  },
  {
   "cell_type": "code",
   "execution_count": null,
   "id": "e327ef40",
   "metadata": {},
   "outputs": [],
   "source": [
    "for name, value in performance.items():\n",
    "  print(f'{name:12s}: {value[1]:0.4f}')"
   ]
  },
  {
   "cell_type": "code",
   "execution_count": null,
   "id": "4ba7f5ae",
   "metadata": {},
   "outputs": [],
   "source": [
    "single_step_window = WindowGenerator(\n",
    "    # `WindowGenerator` returns all features as labels if you \n",
    "    # don't set the `label_columns` argument.\n",
    "    input_width=1, label_width=1, shift=1)\n",
    "\n",
    "wide_window = WindowGenerator(\n",
    "    input_width=24, label_width=24, shift=1)\n",
    "\n",
    "for example_inputs, example_labels in wide_window.train.take(1):\n",
    "  print(f'Inputs shape (batch, time, features): {example_inputs.shape}')\n",
    "  print(f'Labels shape (batch, time, features): {example_labels.shape}')"
   ]
  },
  {
   "cell_type": "code",
   "execution_count": null,
   "id": "9440b83d",
   "metadata": {},
   "outputs": [],
   "source": [
    "baseline = Baseline()\n",
    "baseline.compile(loss=tf.losses.MeanSquaredError(),\n",
    "                 metrics=[tf.metrics.MeanAbsoluteError()])"
   ]
  },
  {
   "cell_type": "code",
   "execution_count": null,
   "id": "a6453891",
   "metadata": {},
   "outputs": [],
   "source": [
    "val_performance = {}\n",
    "performance = {}\n",
    "val_performance['Baseline'] = baseline.evaluate(wide_window.val)\n",
    "performance['Baseline'] = baseline.evaluate(wide_window.test, verbose=0)"
   ]
  },
  {
   "cell_type": "code",
   "execution_count": null,
   "id": "00ade9f1",
   "metadata": {},
   "outputs": [],
   "source": [
    "dense = tf.keras.Sequential([\n",
    "    tf.keras.layers.Dense(units=64, activation='relu'),\n",
    "    tf.keras.layers.Dense(units=64, activation='relu'),\n",
    "    tf.keras.layers.Dense(units=num_features)\n",
    "])"
   ]
  },
  {
   "cell_type": "code",
   "execution_count": null,
   "id": "c36939a6",
   "metadata": {},
   "outputs": [],
   "source": [
    "history = compile_and_fit(dense, single_step_window)\n",
    "\n",
    "IPython.display.clear_output()\n",
    "val_performance['Dense'] = dense.evaluate(single_step_window.val)\n",
    "performance['Dense'] = dense.evaluate(single_step_window.test, verbose=0)"
   ]
  },
  {
   "cell_type": "code",
   "execution_count": null,
   "id": "1dc10b46",
   "metadata": {},
   "outputs": [],
   "source": [
    "%%time\n",
    "wide_window = WindowGenerator(\n",
    "    input_width=24, label_width=24, shift=1)\n",
    "\n",
    "lstm_model = tf.keras.models.Sequential([\n",
    "    # Shape [batch, time, features] => [batch, time, lstm_units]\n",
    "    tf.keras.layers.LSTM(32, return_sequences=True),\n",
    "    # Shape => [batch, time, features]\n",
    "    tf.keras.layers.Dense(units=num_features)\n",
    "])\n",
    "\n",
    "history = compile_and_fit(lstm_model, wide_window)\n",
    "\n",
    "IPython.display.clear_output()\n",
    "val_performance['LSTM'] = lstm_model.evaluate( wide_window.val)\n",
    "performance['LSTM'] = lstm_model.evaluate( wide_window.test, verbose=0)\n",
    "\n",
    "print()"
   ]
  },
  {
   "cell_type": "code",
   "execution_count": null,
   "id": "5c790c35",
   "metadata": {},
   "outputs": [],
   "source": [
    "class ResidualWrapper(tf.keras.Model):\n",
    "  def __init__(self, model):\n",
    "    super().__init__()\n",
    "    self.model = model\n",
    "\n",
    "  def call(self, inputs, *args, **kwargs):\n",
    "    delta = self.model(inputs, *args, **kwargs)\n",
    "\n",
    "    # The prediction for each time step is the input\n",
    "    # from the previous time step plus the delta\n",
    "    # calculated by the model.\n",
    "    return inputs + delta"
   ]
  },
  {
   "cell_type": "code",
   "execution_count": null,
   "id": "3ed6c42a",
   "metadata": {},
   "outputs": [],
   "source": [
    "%%time\n",
    "residual_lstm = ResidualWrapper(\n",
    "    tf.keras.Sequential([\n",
    "    tf.keras.layers.LSTM(32, return_sequences=True),\n",
    "    tf.keras.layers.Dense(\n",
    "        num_features,\n",
    "        # The predicted deltas should start small.\n",
    "        # Therefore, initialize the output layer with zeros.\n",
    "        kernel_initializer=tf.initializers.zeros())\n",
    "]))\n",
    "\n",
    "history = compile_and_fit(residual_lstm, wide_window)\n",
    "\n",
    "IPython.display.clear_output()\n",
    "val_performance['Residual LSTM'] = residual_lstm.evaluate(wide_window.val)\n",
    "performance['Residual LSTM'] = residual_lstm.evaluate(wide_window.test, verbose=0)\n",
    "print()"
   ]
  },
  {
   "cell_type": "code",
   "execution_count": null,
   "id": "05ca88e2",
   "metadata": {},
   "outputs": [],
   "source": [
    "x = np.arange(len(performance))\n",
    "width = 0.3\n",
    "\n",
    "metric_name = 'mean_absolute_error'\n",
    "metric_index = lstm_model.metrics_names.index('mean_absolute_error')\n",
    "val_mae = [v[metric_index] for v in val_performance.values()]\n",
    "test_mae = [v[metric_index] for v in performance.values()]\n",
    "\n",
    "plt.bar(x - 0.17, val_mae, width, label='Validation')\n",
    "plt.bar(x + 0.17, test_mae, width, label='Test')\n",
    "plt.xticks(ticks=x, labels=performance.keys(),\n",
    "           rotation=45)\n",
    "plt.ylabel('MAE (average over all outputs)')\n",
    "_ = plt.legend()"
   ]
  },
  {
   "cell_type": "code",
   "execution_count": null,
   "id": "6953bc53",
   "metadata": {},
   "outputs": [],
   "source": [
    "print(val_performance)"
   ]
  },
  {
   "cell_type": "code",
   "execution_count": null,
   "id": "05419cb0",
   "metadata": {},
   "outputs": [],
   "source": [
    "for name, value in performance.items():\n",
    "  print(f'{name:15s}: {value[1]:0.4f}')"
   ]
  },
  {
   "cell_type": "code",
   "execution_count": null,
   "id": "b80c16bd",
   "metadata": {},
   "outputs": [],
   "source": [
    "OUT_STEPS = 24\n",
    "multi_window = WindowGenerator(input_width=24,\n",
    "                               label_width=OUT_STEPS,\n",
    "                               shift=OUT_STEPS)\n",
    "\n",
    "multi_window.plot()\n",
    "multi_window"
   ]
  },
  {
   "cell_type": "code",
   "execution_count": null,
   "id": "a3741470",
   "metadata": {},
   "outputs": [],
   "source": [
    "class MultiStepLastBaseline(tf.keras.Model):\n",
    "  def call(self, inputs):\n",
    "    return tf.tile(inputs[:, -1:, :], [1, OUT_STEPS, 1])\n",
    "\n",
    "last_baseline = MultiStepLastBaseline()\n",
    "last_baseline.compile(loss=tf.losses.MeanSquaredError(),\n",
    "                      metrics=[tf.metrics.MeanAbsoluteError()])\n",
    "\n",
    "multi_val_performance = {}\n",
    "multi_performance = {}\n",
    "\n",
    "multi_val_performance['Last'] = last_baseline.evaluate(multi_window.val)\n",
    "multi_performance['Last'] = last_baseline.evaluate(multi_window.test, verbose=0)\n",
    "multi_window.plot(last_baseline)"
   ]
  },
  {
   "cell_type": "code",
   "execution_count": null,
   "id": "0be9875e",
   "metadata": {},
   "outputs": [],
   "source": [
    "print(multi_performance)"
   ]
  },
  {
   "cell_type": "code",
   "execution_count": null,
   "id": "e5ef9324",
   "metadata": {},
   "outputs": [],
   "source": [
    "class RepeatBaseline(tf.keras.Model):\n",
    "  def call(self, inputs):\n",
    "    return inputs\n",
    "\n",
    "repeat_baseline = RepeatBaseline()\n",
    "repeat_baseline.compile(loss=tf.losses.MeanSquaredError(),\n",
    "                        metrics=[tf.metrics.MeanAbsoluteError()])\n",
    "\n",
    "multi_val_performance['Repeat'] = repeat_baseline.evaluate(multi_window.val)\n",
    "multi_performance['Repeat'] = repeat_baseline.evaluate(multi_window.test, verbose=0)\n",
    "multi_window.plot(repeat_baseline)"
   ]
  },
  {
   "cell_type": "code",
   "execution_count": null,
   "id": "a2ece7e6",
   "metadata": {},
   "outputs": [],
   "source": [
    "print(multi_val_performance)"
   ]
  },
  {
   "cell_type": "code",
   "execution_count": null,
   "id": "6b0dc237",
   "metadata": {},
   "outputs": [],
   "source": [
    "multi_linear_model = tf.keras.Sequential([\n",
    "    # Take the last time-step.\n",
    "    # Shape [batch, time, features] => [batch, 1, features]\n",
    "    tf.keras.layers.Lambda(lambda x: x[:, -1:, :]),\n",
    "    # Shape => [batch, 1, out_steps*features]\n",
    "    tf.keras.layers.Dense(OUT_STEPS*num_features,\n",
    "                          kernel_initializer=tf.initializers.zeros()),\n",
    "    # Shape => [batch, out_steps, features]\n",
    "    tf.keras.layers.Reshape([OUT_STEPS, num_features])\n",
    "])\n",
    "\n",
    "history = compile_and_fit(multi_linear_model, multi_window)\n",
    "\n",
    "IPython.display.clear_output()\n",
    "multi_val_performance['Linear'] = multi_linear_model.evaluate(multi_window.val)\n",
    "multi_performance['Linear'] = multi_linear_model.evaluate(multi_window.test, verbose=0)\n",
    "multi_window.plot(multi_linear_model)"
   ]
  },
  {
   "cell_type": "code",
   "execution_count": null,
   "id": "68f42ced",
   "metadata": {},
   "outputs": [],
   "source": [
    "print(multi_val_performance)"
   ]
  },
  {
   "cell_type": "code",
   "execution_count": null,
   "id": "3fdaf955",
   "metadata": {},
   "outputs": [],
   "source": [
    "multi_dense_model = tf.keras.Sequential([\n",
    "    # Take the last time step.\n",
    "    # Shape [batch, time, features] => [batch, 1, features]\n",
    "    tf.keras.layers.Lambda(lambda x: x[:, -1:, :]),\n",
    "    # Shape => [batch, 1, dense_units]\n",
    "    tf.keras.layers.Dense(512, activation='relu'),\n",
    "    # Shape => [batch, out_steps*features]\n",
    "    tf.keras.layers.Dense(OUT_STEPS*num_features,\n",
    "                          kernel_initializer=tf.initializers.zeros()),\n",
    "    # Shape => [batch, out_steps, features]\n",
    "    tf.keras.layers.Reshape([OUT_STEPS, num_features])\n",
    "])\n",
    "\n",
    "history = compile_and_fit(multi_dense_model, multi_window)\n",
    "\n",
    "IPython.display.clear_output()\n",
    "multi_val_performance['Dense'] = multi_dense_model.evaluate(multi_window.val)\n",
    "multi_performance['Dense'] = multi_dense_model.evaluate(multi_window.test, verbose=0)\n",
    "multi_window.plot(multi_dense_model)"
   ]
  },
  {
   "cell_type": "code",
   "execution_count": null,
   "id": "30962563",
   "metadata": {},
   "outputs": [],
   "source": [
    "CONV_WIDTH = 3\n",
    "multi_conv_model = tf.keras.Sequential([\n",
    "    # Shape [batch, time, features] => [batch, CONV_WIDTH, features]\n",
    "    tf.keras.layers.Lambda(lambda x: x[:, -CONV_WIDTH:, :]),\n",
    "    # Shape => [batch, 1, conv_units]\n",
    "    tf.keras.layers.Conv1D(256, activation='relu', kernel_size=(CONV_WIDTH)),\n",
    "    # Shape => [batch, 1,  out_steps*features]\n",
    "    tf.keras.layers.Dense(OUT_STEPS*num_features,\n",
    "                          kernel_initializer=tf.initializers.zeros()),\n",
    "    # Shape => [batch, out_steps, features]\n",
    "    tf.keras.layers.Reshape([OUT_STEPS, num_features])\n",
    "])\n",
    "\n",
    "history = compile_and_fit(multi_conv_model, multi_window)\n",
    "\n",
    "IPython.display.clear_output()\n",
    "\n",
    "multi_val_performance['Conv'] = multi_conv_model.evaluate(multi_window.val)\n",
    "multi_performance['Conv'] = multi_conv_model.evaluate(multi_window.test, verbose=0)\n",
    "multi_window.plot(multi_conv_model)"
   ]
  },
  {
   "cell_type": "code",
   "execution_count": null,
   "id": "ead3e4ce",
   "metadata": {},
   "outputs": [],
   "source": [
    "multi_lstm_model = tf.keras.Sequential([\n",
    "    # Shape [batch, time, features] => [batch, lstm_units].\n",
    "    # Adding more `lstm_units` just overfits more quickly.\n",
    "    tf.keras.layers.LSTM(32, return_sequences=False),\n",
    "    # Shape => [batch, out_steps*features].\n",
    "    tf.keras.layers.Dense(OUT_STEPS*num_features,\n",
    "                          kernel_initializer=tf.initializers.zeros()),\n",
    "    # Shape => [batch, out_steps, features].\n",
    "    tf.keras.layers.Reshape([OUT_STEPS, num_features])\n",
    "])\n",
    "\n",
    "history = compile_and_fit(multi_lstm_model, multi_window)\n",
    "\n",
    "IPython.display.clear_output()\n",
    "\n",
    "multi_val_performance['LSTM'] = multi_lstm_model.evaluate(multi_window.val)\n",
    "multi_performance['LSTM'] = multi_lstm_model.evaluate(multi_window.test, verbose=0)\n",
    "multi_window.plot(multi_lstm_model)"
   ]
  },
  {
   "cell_type": "code",
   "execution_count": null,
   "id": "2bb86ea9",
   "metadata": {},
   "outputs": [],
   "source": [
    "multi_val_performance.values()"
   ]
  },
  {
   "cell_type": "code",
   "execution_count": null,
   "id": "db07a08c",
   "metadata": {},
   "outputs": [],
   "source": [
    "class FeedBack(tf.keras.Model):\n",
    "  def __init__(self, units, out_steps):\n",
    "    super().__init__()\n",
    "    self.out_steps = out_steps\n",
    "    self.units = units\n",
    "    self.lstm_cell = tf.keras.layers.LSTMCell(units)\n",
    "    # Also wrap the LSTMCell in an RNN to simplify the `warmup` method.\n",
    "    self.lstm_rnn = tf.keras.layers.RNN(self.lstm_cell, return_state=True)\n",
    "    self.dense = tf.keras.layers.Dense(num_features)"
   ]
  },
  {
   "cell_type": "code",
   "execution_count": null,
   "id": "e6e23bf1",
   "metadata": {},
   "outputs": [],
   "source": [
    "feedback_model = FeedBack(units=32, out_steps=OUT_STEPS)"
   ]
  },
  {
   "cell_type": "code",
   "execution_count": null,
   "id": "79181ce4",
   "metadata": {},
   "outputs": [],
   "source": [
    "def warmup(self, inputs):\n",
    "  # inputs.shape => (batch, time, features)\n",
    "  # x.shape => (batch, lstm_units)\n",
    "  x, *state = self.lstm_rnn(inputs)\n",
    "\n",
    "  # predictions.shape => (batch, features)\n",
    "  prediction = self.dense(x)\n",
    "  return prediction, state\n",
    "\n",
    "FeedBack.warmup = warmup"
   ]
  },
  {
   "cell_type": "code",
   "execution_count": null,
   "id": "6c6d121a",
   "metadata": {},
   "outputs": [],
   "source": [
    "prediction, state = feedback_model.warmup(multi_window.example[0])\n",
    "prediction.shape"
   ]
  },
  {
   "cell_type": "code",
   "execution_count": null,
   "id": "85c83763",
   "metadata": {},
   "outputs": [],
   "source": [
    "def call(self, inputs, training=None):\n",
    "  # Use a TensorArray to capture dynamically unrolled outputs.\n",
    "  predictions = []\n",
    "  # Initialize the LSTM state.\n",
    "  prediction, state = self.warmup(inputs)\n",
    "\n",
    "  # Insert the first prediction.\n",
    "  predictions.append(prediction)\n",
    "\n",
    "  # Run the rest of the prediction steps.\n",
    "  for n in range(1, self.out_steps):\n",
    "    # Use the last prediction as input.\n",
    "    x = prediction\n",
    "    # Execute one lstm step.\n",
    "    x, state = self.lstm_cell(x, states=state,\n",
    "                              training=training)\n",
    "    # Convert the lstm output to a prediction.\n",
    "    prediction = self.dense(x)\n",
    "    # Add the prediction to the output.\n",
    "    predictions.append(prediction)\n",
    "\n",
    "  # predictions.shape => (time, batch, features)\n",
    "  predictions = tf.stack(predictions)\n",
    "  # predictions.shape => (batch, time, features)\n",
    "  predictions = tf.transpose(predictions, [1, 0, 2])\n",
    "  return predictions\n",
    "\n",
    "FeedBack.call = call"
   ]
  },
  {
   "cell_type": "code",
   "execution_count": null,
   "id": "9fac2d2d",
   "metadata": {},
   "outputs": [],
   "source": [
    "print('Output shape (batch, time, features): ', feedback_model(multi_window.example[0]).shape)"
   ]
  },
  {
   "cell_type": "code",
   "execution_count": null,
   "id": "8cbf58e3",
   "metadata": {
    "scrolled": true
   },
   "outputs": [],
   "source": [
    "history = compile_and_fit(feedback_model, multi_window)\n",
    "\n",
    "IPython.display.clear_output()\n",
    "\n",
    "multi_val_performance['AR LSTM'] = feedback_model.evaluate(multi_window.val)\n",
    "multi_performance['AR LSTM'] = feedback_model.evaluate(multi_window.test, verbose=0)\n",
    "multi_window.plot(feedback_model)"
   ]
  },
  {
   "cell_type": "code",
   "execution_count": null,
   "id": "527d28f1",
   "metadata": {},
   "outputs": [],
   "source": [
    "print(multi_val_performance.values())"
   ]
  },
  {
   "cell_type": "code",
   "execution_count": null,
   "id": "d0a8892e",
   "metadata": {},
   "outputs": [],
   "source": [
    "\n",
    "x = np.arange(len(multi_performance))\n",
    "width = 0.3\n",
    "print(multi_performance.values())\n",
    "metric_name = 'mean_absolute_error'\n",
    "metric_index = lstm_model.metrics_names.index('mean_absolute_error')\n",
    "val_mae = [v[1] for v in multi_val_performance.values()]\n",
    "test_mae = [v[1] for v in multi_val_performance.values()]\n",
    "\n",
    "plt.bar(x - 0.17, val_mae, width, label='Validation')\n",
    "plt.bar(x + 0.17, test_mae, width, label='Test')\n",
    "plt.xticks(ticks=x, labels=multi_performance.keys(),\n",
    "           rotation=45)\n",
    "plt.ylabel('MAE (average over all outputs)')\n",
    "_ = plt.legend()\n",
    "\n"
   ]
  },
  {
   "cell_type": "code",
   "execution_count": null,
   "id": "9b6d125e",
   "metadata": {},
   "outputs": [],
   "source": [
    "for name, value in multi_val_performance.items():\n",
    "  print(f'{name:8s}: {value[1]:0.4f}')"
   ]
  },
  {
   "cell_type": "code",
   "execution_count": null,
   "id": "3777dbfe",
   "metadata": {},
   "outputs": [],
   "source": []
  },
  {
   "cell_type": "code",
   "execution_count": null,
   "id": "29f6965e",
   "metadata": {},
   "outputs": [],
   "source": []
  }
 ],
 "metadata": {
  "kernelspec": {
   "display_name": "Python 3 (ipykernel)",
   "language": "python",
   "name": "python3"
  },
  "language_info": {
   "codemirror_mode": {
    "name": "ipython",
    "version": 3
   },
   "file_extension": ".py",
   "mimetype": "text/x-python",
   "name": "python",
   "nbconvert_exporter": "python",
   "pygments_lexer": "ipython3",
   "version": "3.8.10"
  }
 },
 "nbformat": 4,
 "nbformat_minor": 5
}
