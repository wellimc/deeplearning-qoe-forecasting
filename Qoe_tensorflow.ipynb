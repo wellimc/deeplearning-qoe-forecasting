{
 "cells": [
  {
   "cell_type": "code",
   "execution_count": 2,
   "id": "ecd1c35b",
   "metadata": {},
   "outputs": [
    {
     "name": "stderr",
     "output_type": "stream",
     "text": [
      "2022-05-09 18:50:10.878258: I tensorflow/core/platform/cpu_feature_guard.cc:193] This TensorFlow binary is optimized with oneAPI Deep Neural Network Library (oneDNN) to use the following CPU instructions in performance-critical operations:  AVX2 FMA\n",
      "To enable them in other operations, rebuild TensorFlow with the appropriate compiler flags.\n"
     ]
    }
   ],
   "source": [
    "import os\n",
    "import datetime\n",
    "\n",
    "import IPython\n",
    "import IPython.display\n",
    "import matplotlib as mpl\n",
    "import matplotlib.pyplot as plt\n",
    "import numpy as np\n",
    "import pandas as pd\n",
    "import seaborn as sns\n",
    "import tensorflow as tf\n",
    "from sklearn.model_selection import train_test_split\n",
    "from tensorflow import feature_column\n",
    "from tensorflow.keras import layers\n",
    "\n",
    "mpl.rcParams['figure.figsize'] = (8, 6)\n",
    "mpl.rcParams['axes.grid'] = False"
   ]
  },
  {
   "cell_type": "code",
   "execution_count": 3,
   "id": "b1e1e154",
   "metadata": {},
   "outputs": [
    {
     "data": {
      "text/html": [
       "<div>\n",
       "<style scoped>\n",
       "    .dataframe tbody tr th:only-of-type {\n",
       "        vertical-align: middle;\n",
       "    }\n",
       "\n",
       "    .dataframe tbody tr th {\n",
       "        vertical-align: top;\n",
       "    }\n",
       "\n",
       "    .dataframe thead th {\n",
       "        text-align: right;\n",
       "    }\n",
       "</style>\n",
       "<table border=\"1\" class=\"dataframe\">\n",
       "  <thead>\n",
       "    <tr style=\"text-align: right;\">\n",
       "      <th></th>\n",
       "      <th>session</th>\n",
       "      <th>rtt</th>\n",
       "      <th>download_lossrate</th>\n",
       "      <th>download_throughput</th>\n",
       "      <th>Stalling_number</th>\n",
       "      <th>Stalling_length</th>\n",
       "      <th>join_time</th>\n",
       "      <th>QoE_linear</th>\n",
       "    </tr>\n",
       "  </thead>\n",
       "  <tbody>\n",
       "    <tr>\n",
       "      <th>0</th>\n",
       "      <td>1</td>\n",
       "      <td>993</td>\n",
       "      <td>0.07</td>\n",
       "      <td>5217</td>\n",
       "      <td>2</td>\n",
       "      <td>27968</td>\n",
       "      <td>26522</td>\n",
       "      <td>2</td>\n",
       "    </tr>\n",
       "    <tr>\n",
       "      <th>1</th>\n",
       "      <td>1</td>\n",
       "      <td>933</td>\n",
       "      <td>0.04</td>\n",
       "      <td>5198</td>\n",
       "      <td>3</td>\n",
       "      <td>5925</td>\n",
       "      <td>20380</td>\n",
       "      <td>3</td>\n",
       "    </tr>\n",
       "    <tr>\n",
       "      <th>2</th>\n",
       "      <td>1</td>\n",
       "      <td>873</td>\n",
       "      <td>0.00</td>\n",
       "      <td>5179</td>\n",
       "      <td>1</td>\n",
       "      <td>849</td>\n",
       "      <td>11620</td>\n",
       "      <td>4</td>\n",
       "    </tr>\n",
       "  </tbody>\n",
       "</table>\n",
       "</div>"
      ],
      "text/plain": [
       "   session  rtt  download_lossrate  download_throughput  Stalling_number  \\\n",
       "0        1  993               0.07                 5217                2   \n",
       "1        1  933               0.04                 5198                3   \n",
       "2        1  873               0.00                 5179                1   \n",
       "\n",
       "   Stalling_length  join_time  QoE_linear  \n",
       "0            27968      26522           2  \n",
       "1             5925      20380           3  \n",
       "2              849      11620           4  "
      ]
     },
     "execution_count": 3,
     "metadata": {},
     "output_type": "execute_result"
    }
   ],
   "source": [
    "file_name = \"QoE_Linear_TrainingSet.csv\"\n",
    "df = pd.read_csv ('QoE_Linear_TrainingSet.csv')\n",
    "df.head(3)\n"
   ]
  },
  {
   "cell_type": "code",
   "execution_count": null,
   "id": "bb3a99ea",
   "metadata": {},
   "outputs": [],
   "source": []
  },
  {
   "cell_type": "code",
   "execution_count": 4,
   "id": "2a64e114",
   "metadata": {},
   "outputs": [
    {
     "name": "stdout",
     "output_type": "stream",
     "text": [
      "      session   rtt  download_lossrate  download_throughput  Stalling_number  \\\n",
      "0           1   993               0.07                 5217                2   \n",
      "1           1   933               0.04                 5198                3   \n",
      "2           1   873               0.00                 5179                1   \n",
      "3           1   813               0.04                 5160                1   \n",
      "4           1   753               0.07                 5141                1   \n",
      "...       ...   ...                ...                  ...              ...   \n",
      "9569        5  4560               0.21                 8681             1000   \n",
      "9570        5  4410               0.14                 8661             1000   \n",
      "9571        5  4260               0.08                 8641             1000   \n",
      "9572        5  4110               0.02                 8621                2   \n",
      "9573        5  3960               0.04                 8601                2   \n",
      "\n",
      "      Stalling_length  join_time  QoE_linear  \n",
      "0               27968      26522           2  \n",
      "1                5925      20380           3  \n",
      "2                 849      11620           4  \n",
      "3                7270      13393           4  \n",
      "4               18886      20276           3  \n",
      "...               ...        ...         ...  \n",
      "9569           400000     400000           1  \n",
      "9570           400000     400000           1  \n",
      "9571           400000     400000           1  \n",
      "9572            31026      95980           1  \n",
      "9573            45992      83929           1  \n",
      "\n",
      "[9574 rows x 8 columns]\n"
     ]
    }
   ],
   "source": [
    "# Slice [start:stop:step], starting from index 5 take every 6th record.\n",
    "#df = df[::1] \n",
    "\n",
    "\n",
    "print(df)\n"
   ]
  },
  {
   "cell_type": "code",
   "execution_count": 5,
   "id": "683e77a9",
   "metadata": {},
   "outputs": [
    {
     "data": {
      "text/html": [
       "<div>\n",
       "<style scoped>\n",
       "    .dataframe tbody tr th:only-of-type {\n",
       "        vertical-align: middle;\n",
       "    }\n",
       "\n",
       "    .dataframe tbody tr th {\n",
       "        vertical-align: top;\n",
       "    }\n",
       "\n",
       "    .dataframe thead th {\n",
       "        text-align: right;\n",
       "    }\n",
       "</style>\n",
       "<table border=\"1\" class=\"dataframe\">\n",
       "  <thead>\n",
       "    <tr style=\"text-align: right;\">\n",
       "      <th></th>\n",
       "      <th>count</th>\n",
       "      <th>mean</th>\n",
       "      <th>std</th>\n",
       "      <th>min</th>\n",
       "      <th>25%</th>\n",
       "      <th>50%</th>\n",
       "      <th>75%</th>\n",
       "      <th>max</th>\n",
       "    </tr>\n",
       "  </thead>\n",
       "  <tbody>\n",
       "    <tr>\n",
       "      <th>session</th>\n",
       "      <td>9574.0</td>\n",
       "      <td>3.343430</td>\n",
       "      <td>1.372104</td>\n",
       "      <td>1.0</td>\n",
       "      <td>2.00</td>\n",
       "      <td>4.00</td>\n",
       "      <td>4.00</td>\n",
       "      <td>5.00</td>\n",
       "    </tr>\n",
       "    <tr>\n",
       "      <th>rtt</th>\n",
       "      <td>9574.0</td>\n",
       "      <td>2380.539377</td>\n",
       "      <td>1457.249216</td>\n",
       "      <td>2.0</td>\n",
       "      <td>1110.00</td>\n",
       "      <td>2290.00</td>\n",
       "      <td>3641.50</td>\n",
       "      <td>4992.00</td>\n",
       "    </tr>\n",
       "    <tr>\n",
       "      <th>download_lossrate</th>\n",
       "      <td>9574.0</td>\n",
       "      <td>0.120053</td>\n",
       "      <td>0.071802</td>\n",
       "      <td>0.0</td>\n",
       "      <td>0.06</td>\n",
       "      <td>0.12</td>\n",
       "      <td>0.18</td>\n",
       "      <td>0.25</td>\n",
       "    </tr>\n",
       "    <tr>\n",
       "      <th>download_throughput</th>\n",
       "      <td>9574.0</td>\n",
       "      <td>4982.315960</td>\n",
       "      <td>2878.284443</td>\n",
       "      <td>0.0</td>\n",
       "      <td>2479.25</td>\n",
       "      <td>4948.00</td>\n",
       "      <td>7450.00</td>\n",
       "      <td>10000.00</td>\n",
       "    </tr>\n",
       "    <tr>\n",
       "      <th>Stalling_number</th>\n",
       "      <td>9574.0</td>\n",
       "      <td>314.993211</td>\n",
       "      <td>457.094995</td>\n",
       "      <td>0.0</td>\n",
       "      <td>2.00</td>\n",
       "      <td>2.00</td>\n",
       "      <td>1000.00</td>\n",
       "      <td>1000.00</td>\n",
       "    </tr>\n",
       "    <tr>\n",
       "      <th>Stalling_length</th>\n",
       "      <td>9574.0</td>\n",
       "      <td>141159.370796</td>\n",
       "      <td>174035.257457</td>\n",
       "      <td>0.0</td>\n",
       "      <td>10865.25</td>\n",
       "      <td>34550.00</td>\n",
       "      <td>400000.00</td>\n",
       "      <td>400000.00</td>\n",
       "    </tr>\n",
       "    <tr>\n",
       "      <th>join_time</th>\n",
       "      <td>9574.0</td>\n",
       "      <td>189931.508043</td>\n",
       "      <td>165904.818240</td>\n",
       "      <td>1322.0</td>\n",
       "      <td>43546.25</td>\n",
       "      <td>100769.00</td>\n",
       "      <td>400000.00</td>\n",
       "      <td>400000.00</td>\n",
       "    </tr>\n",
       "    <tr>\n",
       "      <th>QoE_linear</th>\n",
       "      <td>9574.0</td>\n",
       "      <td>1.534155</td>\n",
       "      <td>1.060990</td>\n",
       "      <td>1.0</td>\n",
       "      <td>1.00</td>\n",
       "      <td>1.00</td>\n",
       "      <td>1.00</td>\n",
       "      <td>5.00</td>\n",
       "    </tr>\n",
       "  </tbody>\n",
       "</table>\n",
       "</div>"
      ],
      "text/plain": [
       "                      count           mean            std     min       25%  \\\n",
       "session              9574.0       3.343430       1.372104     1.0      2.00   \n",
       "rtt                  9574.0    2380.539377    1457.249216     2.0   1110.00   \n",
       "download_lossrate    9574.0       0.120053       0.071802     0.0      0.06   \n",
       "download_throughput  9574.0    4982.315960    2878.284443     0.0   2479.25   \n",
       "Stalling_number      9574.0     314.993211     457.094995     0.0      2.00   \n",
       "Stalling_length      9574.0  141159.370796  174035.257457     0.0  10865.25   \n",
       "join_time            9574.0  189931.508043  165904.818240  1322.0  43546.25   \n",
       "QoE_linear           9574.0       1.534155       1.060990     1.0      1.00   \n",
       "\n",
       "                           50%        75%        max  \n",
       "session                   4.00       4.00       5.00  \n",
       "rtt                    2290.00    3641.50    4992.00  \n",
       "download_lossrate         0.12       0.18       0.25  \n",
       "download_throughput    4948.00    7450.00   10000.00  \n",
       "Stalling_number           2.00    1000.00    1000.00  \n",
       "Stalling_length       34550.00  400000.00  400000.00  \n",
       "join_time            100769.00  400000.00  400000.00  \n",
       "QoE_linear                1.00       1.00       5.00  "
      ]
     },
     "execution_count": 5,
     "metadata": {},
     "output_type": "execute_result"
    }
   ],
   "source": [
    "df.describe().transpose()"
   ]
  },
  {
   "cell_type": "code",
   "execution_count": 6,
   "id": "f07b8d7a",
   "metadata": {},
   "outputs": [
    {
     "name": "stdout",
     "output_type": "stream",
     "text": [
      "{'session': 0, 'rtt': 1, 'download_lossrate': 2, 'download_throughput': 3, 'Stalling_number': 4, 'Stalling_length': 5, 'join_time': 6, 'QoE_linear': 7}\n"
     ]
    }
   ],
   "source": [
    "column_indices = {name: i for i, name in enumerate(df.columns)}\n",
    "\n",
    "\n",
    "\n",
    "n = len(df)\n",
    "train_df = df[0:int(n*0.7)]\n",
    "val_df = df[int(n*0.7):int(n*0.9)]\n",
    "test_df = df[int(n*0.9):]\n",
    "\n",
    "num_features = df.shape[1]\n",
    "\n",
    "print(column_indices)"
   ]
  },
  {
   "cell_type": "code",
   "execution_count": 7,
   "id": "ac4e510e",
   "metadata": {},
   "outputs": [],
   "source": [
    "fft = tf.signal.rfft(df['QoE_linear'])\n"
   ]
  },
  {
   "cell_type": "code",
   "execution_count": 8,
   "id": "2be1c04a",
   "metadata": {},
   "outputs": [
    {
     "name": "stdout",
     "output_type": "stream",
     "text": [
      "{'session': 0, 'rtt': 1, 'download_lossrate': 2, 'download_throughput': 3, 'Stalling_number': 4, 'Stalling_length': 5, 'join_time': 6, 'QoE_linear': 7}\n"
     ]
    }
   ],
   "source": [
    "column_indices = {name: i for i, name in enumerate(df.columns)}\n",
    "\n",
    "n = len(df)\n",
    "train_df = df[0:int(n*0.7)]\n",
    "val_df = df[int(n*0.7):int(n*0.9)]\n",
    "test_df = df[int(n*0.9):]\n",
    "\n",
    "num_features = df.shape[1]\n",
    "print(column_indices)"
   ]
  },
  {
   "cell_type": "code",
   "execution_count": 9,
   "id": "17fbfaa9",
   "metadata": {},
   "outputs": [],
   "source": [
    "train_mean = train_df.mean()\n",
    "train_std = train_df.std()\n",
    "\n",
    "train_df = (train_df - train_mean) / train_std\n",
    "val_df = (val_df - train_mean) / train_std\n",
    "test_df = (test_df - train_mean) / train_std"
   ]
  },
  {
   "cell_type": "code",
   "execution_count": 10,
   "id": "ec978438",
   "metadata": {},
   "outputs": [
    {
     "data": {
      "image/png": "[encoded data removed]",
      "text/plain": [
       "<Figure size 864x432 with 1 Axes>"
      ]
     },
     "metadata": {
      "needs_background": "light"
     },
     "output_type": "display_data"
    }
   ],
   "source": [
    "df_std = (df - train_mean) / train_std\n",
    "df_std = df_std.melt(var_name='Column', value_name='Normalized')\n",
    "plt.figure(figsize=(12, 6))\n",
    "ax = sns.violinplot(x='Column', y='Normalized', data=df_std)\n",
    "_ = ax.set_xticklabels(df.keys(), rotation=90)"
   ]
  },
  {
   "cell_type": "code",
   "execution_count": 11,
   "id": "29f6965e",
   "metadata": {},
   "outputs": [],
   "source": [
    "# In the original dataset \"4\" indicates the pet was not adopted.\n",
    "df['target'] = df['QoE_linear']\n",
    "\n",
    "df = df.drop(columns=['QoE_linear','join_time'])"
   ]
  },
  {
   "cell_type": "code",
   "execution_count": 12,
   "id": "1329b1ab",
   "metadata": {},
   "outputs": [
    {
     "name": "stdout",
     "output_type": "stream",
     "text": [
      "(9574, 7)\n"
     ]
    }
   ],
   "source": [
    "print(df.shape)"
   ]
  },
  {
   "cell_type": "code",
   "execution_count": 13,
   "id": "260a5d5c",
   "metadata": {},
   "outputs": [
    {
     "name": "stdout",
     "output_type": "stream",
     "text": [
      "6127 train examples\n",
      "1532 validation examples\n",
      "1915 test examples\n"
     ]
    }
   ],
   "source": [
    "train, test = train_test_split(df, test_size=0.2)\n",
    "train, val = train_test_split(train, test_size=0.2)\n",
    "print(len(train), 'train examples')\n",
    "print(len(val), 'validation examples')\n",
    "print(len(test), 'test examples')"
   ]
  },
  {
   "cell_type": "code",
   "execution_count": 14,
   "id": "f904b659",
   "metadata": {},
   "outputs": [],
   "source": [
    "# A utility method to create a tf.data dataset from a Pandas Dataframe\n",
    "def df_to_dataset(dataframe, shuffle=True, batch_size=32):\n",
    "  dataframe = dataframe.copy()\n",
    "  labels = dataframe.pop('target')\n",
    "  ds = tf.data.Dataset.from_tensor_slices((dict(dataframe), labels))\n",
    "  if shuffle:\n",
    "    ds = ds.shuffle(buffer_size=len(dataframe))\n",
    "  ds = ds.batch(batch_size)\n",
    "  return ds"
   ]
  },
  {
   "cell_type": "code",
   "execution_count": 15,
   "id": "527aba27",
   "metadata": {},
   "outputs": [],
   "source": [
    "batch_size = 5 # A small batch sized is used for demonstration purposes\n",
    "train_ds = df_to_dataset(train, batch_size=batch_size)\n",
    "val_ds = df_to_dataset(val, shuffle=False, batch_size=batch_size)\n",
    "test_ds = df_to_dataset(test, shuffle=False, batch_size=batch_size)"
   ]
  },
  {
   "cell_type": "code",
   "execution_count": 16,
   "id": "e8dd32f7",
   "metadata": {},
   "outputs": [
    {
     "name": "stdout",
     "output_type": "stream",
     "text": [
      "Every feature: ['session', 'rtt', 'download_lossrate', 'download_throughput', 'Stalling_number', 'Stalling_length']\n",
      "A batch of rtt: tf.Tensor([1 2 5 2 3], shape=(5,), dtype=int64)\n",
      "A batch of targets: tf.Tensor([1 1 1 3 1], shape=(5,), dtype=int64)\n"
     ]
    }
   ],
   "source": [
    "for feature_batch, label_batch in train_ds.take(1):\n",
    "  print('Every feature:', list(feature_batch.keys()))\n",
    "  print('A batch of rtt:', feature_batch['session'])\n",
    "  print('A batch of targets:', label_batch )"
   ]
  },
  {
   "cell_type": "code",
   "execution_count": 17,
   "id": "0c60a495",
   "metadata": {},
   "outputs": [],
   "source": [
    "example_batch = next(iter(train_ds))[0]"
   ]
  },
  {
   "cell_type": "code",
   "execution_count": 18,
   "id": "ea685213",
   "metadata": {},
   "outputs": [],
   "source": [
    "# A utility method to create a feature column\n",
    "# and to transform a batch of data\n",
    "def demo(feature_column):\n",
    "  feature_layer = layers.DenseFeatures(feature_column)\n",
    "  print(feature_layer(example_batch).numpy())"
   ]
  },
  {
   "cell_type": "code",
   "execution_count": 19,
   "id": "3c0b9258",
   "metadata": {},
   "outputs": [
    {
     "name": "stdout",
     "output_type": "stream",
     "text": [
      "[[0.21]\n",
      " [0.05]\n",
      " [0.06]\n",
      " [0.14]\n",
      " [0.17]]\n"
     ]
    }
   ],
   "source": [
    "photo_count = feature_column.numeric_column('download_lossrate')\n",
    "demo(photo_count)"
   ]
  },
  {
   "cell_type": "code",
   "execution_count": 20,
   "id": "0971d8b7",
   "metadata": {},
   "outputs": [
    {
     "name": "stdout",
     "output_type": "stream",
     "text": [
      "[[0. 0. 0. 0. 1. 0.]\n",
      " [0. 0. 1. 0. 0. 0.]\n",
      " [0. 1. 0. 0. 0. 0.]\n",
      " [0. 0. 0. 0. 1. 0.]\n",
      " [0. 0. 0. 0. 0. 1.]]\n"
     ]
    }
   ],
   "source": [
    "qoe = feature_column.numeric_column('session')\n",
    "qoe_buckets = feature_column.bucketized_column(qoe, boundaries=[1, 2,3,4,5])\n",
    "demo(qoe_buckets)"
   ]
  },
  {
   "cell_type": "code",
   "execution_count": 21,
   "id": "ec6220ce",
   "metadata": {},
   "outputs": [
    {
     "name": "stdout",
     "output_type": "stream",
     "text": [
      "[[ 0.          0.          0.          0.          0.          0.\n",
      "   0.          0.        ]\n",
      " [ 0.          0.          0.          0.          0.          0.\n",
      "   0.          0.        ]\n",
      " [ 0.38774136 -0.42298362 -0.5965022   0.08010495 -0.49206373  0.31878415\n",
      "  -0.6275102   0.41390383]\n",
      " [ 0.          0.          0.          0.          0.          0.\n",
      "   0.          0.        ]\n",
      " [ 0.          0.          0.          0.          0.          0.\n",
      "   0.          0.        ]]\n"
     ]
    }
   ],
   "source": [
    "# Notice the input to the embedding column is the categorical column\n",
    "# we previously created\n",
    "breed1 = feature_column.categorical_column_with_vocabulary_list(\n",
    "      'session', df.download_throughput.unique())\n",
    "breed1_embedding = feature_column.embedding_column(breed1, dimension=8)\n",
    "demo(breed1_embedding)"
   ]
  },
  {
   "cell_type": "code",
   "execution_count": 22,
   "id": "0cca99c1",
   "metadata": {},
   "outputs": [
    {
     "ename": "ValueError",
     "evalue": "Exception encountered when calling layer \"dense_features_3\" (type DenseFeatures).\n\nColumn dtype and SparseTensors dtype must be compatible. key: Stalling_number, column dtype: <dtype: 'string'>, tensor dtype: <dtype: 'int64'>\n\nCall arguments received by layer \"dense_features_3\" (type DenseFeatures):\n  • features={'session': 'tf.Tensor(shape=(5,), dtype=int64)', 'rtt': 'tf.Tensor(shape=(5,), dtype=int64)', 'download_lossrate': 'tf.Tensor(shape=(5,), dtype=float32)', 'download_throughput': 'tf.Tensor(shape=(5,), dtype=int64)', 'Stalling_number': 'tf.Tensor(shape=(5,), dtype=int64)', 'Stalling_length': 'tf.Tensor(shape=(5,), dtype=int64)'}\n  • cols_to_output_tensors=None\n  • training=False",
     "output_type": "error",
     "traceback": [
      "\u001b[0;31m---------------------------------------------------------------------------\u001b[0m",
      "\u001b[0;31mValueError\u001b[0m                                Traceback (most recent call last)",
      "Input \u001b[0;32mIn [22]\u001b[0m, in \u001b[0;36m<cell line: 3>\u001b[0;34m()\u001b[0m\n\u001b[1;32m      1\u001b[0m breed1_hashed \u001b[38;5;241m=\u001b[39m feature_column\u001b[38;5;241m.\u001b[39mcategorical_column_with_hash_bucket(\n\u001b[1;32m      2\u001b[0m       \u001b[38;5;124m'\u001b[39m\u001b[38;5;124mStalling_number\u001b[39m\u001b[38;5;124m'\u001b[39m, hash_bucket_size\u001b[38;5;241m=\u001b[39m\u001b[38;5;241m10\u001b[39m)\n\u001b[0;32m----> 3\u001b[0m \u001b[43mdemo\u001b[49m\u001b[43m(\u001b[49m\u001b[43mfeature_column\u001b[49m\u001b[38;5;241;43m.\u001b[39;49m\u001b[43mindicator_column\u001b[49m\u001b[43m(\u001b[49m\u001b[43mbreed1_hashed\u001b[49m\u001b[43m)\u001b[49m\u001b[43m)\u001b[49m\n",
      "Input \u001b[0;32mIn [18]\u001b[0m, in \u001b[0;36mdemo\u001b[0;34m(feature_column)\u001b[0m\n\u001b[1;32m      3\u001b[0m \u001b[38;5;28;01mdef\u001b[39;00m \u001b[38;5;21mdemo\u001b[39m(feature_column):\n\u001b[1;32m      4\u001b[0m   feature_layer \u001b[38;5;241m=\u001b[39m layers\u001b[38;5;241m.\u001b[39mDenseFeatures(feature_column)\n\u001b[0;32m----> 5\u001b[0m   \u001b[38;5;28mprint\u001b[39m(\u001b[43mfeature_layer\u001b[49m\u001b[43m(\u001b[49m\u001b[43mexample_batch\u001b[49m\u001b[43m)\u001b[49m\u001b[38;5;241m.\u001b[39mnumpy())\n",
      "File \u001b[0;32m/Library/Frameworks/Python.framework/Versions/3.8/lib/python3.8/site-packages/keras/utils/traceback_utils.py:69\u001b[0m, in \u001b[0;36mfilter_traceback.<locals>.error_handler\u001b[0;34m(*args, **kwargs)\u001b[0m\n\u001b[1;32m     66\u001b[0m   filtered_tb \u001b[38;5;241m=\u001b[39m _process_traceback_frames(e\u001b[38;5;241m.\u001b[39m__traceback__)\n\u001b[1;32m     67\u001b[0m   \u001b[38;5;66;03m# To get the full stack trace, call:\u001b[39;00m\n\u001b[1;32m     68\u001b[0m   \u001b[38;5;66;03m# `tf.debugging.disable_traceback_filtering()`\u001b[39;00m\n\u001b[0;32m---> 69\u001b[0m   \u001b[38;5;28;01mraise\u001b[39;00m e\u001b[38;5;241m.\u001b[39mwith_traceback(filtered_tb) \u001b[38;5;28;01mfrom\u001b[39;00m \u001b[38;5;28mNone\u001b[39m\n\u001b[1;32m     70\u001b[0m \u001b[38;5;28;01mfinally\u001b[39;00m:\n\u001b[1;32m     71\u001b[0m   \u001b[38;5;28;01mdel\u001b[39;00m filtered_tb\n",
      "File \u001b[0;32m/Library/Frameworks/Python.framework/Versions/3.8/lib/python3.8/site-packages/tensorflow/python/feature_column/feature_column_v2.py:3404\u001b[0m, in \u001b[0;36mHashedCategoricalColumn._transform_input_tensor\u001b[0;34m(self, input_tensor)\u001b[0m\n\u001b[1;32m   3399\u001b[0m fc_utils\u001b[38;5;241m.\u001b[39massert_string_or_int(\n\u001b[1;32m   3400\u001b[0m     input_tensor\u001b[38;5;241m.\u001b[39mdtype,\n\u001b[1;32m   3401\u001b[0m     prefix\u001b[38;5;241m=\u001b[39m\u001b[38;5;124m'\u001b[39m\u001b[38;5;124mcolumn_name: \u001b[39m\u001b[38;5;132;01m{}\u001b[39;00m\u001b[38;5;124m input_tensor\u001b[39m\u001b[38;5;124m'\u001b[39m\u001b[38;5;241m.\u001b[39mformat(\u001b[38;5;28mself\u001b[39m\u001b[38;5;241m.\u001b[39mkey))\n\u001b[1;32m   3403\u001b[0m \u001b[38;5;28;01mif\u001b[39;00m \u001b[38;5;28mself\u001b[39m\u001b[38;5;241m.\u001b[39mdtype\u001b[38;5;241m.\u001b[39mis_integer \u001b[38;5;241m!=\u001b[39m input_tensor\u001b[38;5;241m.\u001b[39mdtype\u001b[38;5;241m.\u001b[39mis_integer:\n\u001b[0;32m-> 3404\u001b[0m   \u001b[38;5;28;01mraise\u001b[39;00m \u001b[38;5;167;01mValueError\u001b[39;00m(\n\u001b[1;32m   3405\u001b[0m       \u001b[38;5;124m'\u001b[39m\u001b[38;5;124mColumn dtype and SparseTensors dtype must be compatible. \u001b[39m\u001b[38;5;124m'\u001b[39m\n\u001b[1;32m   3406\u001b[0m       \u001b[38;5;124m'\u001b[39m\u001b[38;5;124mkey: \u001b[39m\u001b[38;5;132;01m{}\u001b[39;00m\u001b[38;5;124m, column dtype: \u001b[39m\u001b[38;5;132;01m{}\u001b[39;00m\u001b[38;5;124m, tensor dtype: \u001b[39m\u001b[38;5;132;01m{}\u001b[39;00m\u001b[38;5;124m'\u001b[39m\u001b[38;5;241m.\u001b[39mformat(\n\u001b[1;32m   3407\u001b[0m           \u001b[38;5;28mself\u001b[39m\u001b[38;5;241m.\u001b[39mkey, \u001b[38;5;28mself\u001b[39m\u001b[38;5;241m.\u001b[39mdtype, input_tensor\u001b[38;5;241m.\u001b[39mdtype))\n\u001b[1;32m   3409\u001b[0m \u001b[38;5;28;01mif\u001b[39;00m \u001b[38;5;28mself\u001b[39m\u001b[38;5;241m.\u001b[39mdtype \u001b[38;5;241m==\u001b[39m dtypes\u001b[38;5;241m.\u001b[39mstring:\n\u001b[1;32m   3410\u001b[0m   sparse_values \u001b[38;5;241m=\u001b[39m input_tensor\u001b[38;5;241m.\u001b[39mvalues\n",
      "\u001b[0;31mValueError\u001b[0m: Exception encountered when calling layer \"dense_features_3\" (type DenseFeatures).\n\nColumn dtype and SparseTensors dtype must be compatible. key: Stalling_number, column dtype: <dtype: 'string'>, tensor dtype: <dtype: 'int64'>\n\nCall arguments received by layer \"dense_features_3\" (type DenseFeatures):\n  • features={'session': 'tf.Tensor(shape=(5,), dtype=int64)', 'rtt': 'tf.Tensor(shape=(5,), dtype=int64)', 'download_lossrate': 'tf.Tensor(shape=(5,), dtype=float32)', 'download_throughput': 'tf.Tensor(shape=(5,), dtype=int64)', 'Stalling_number': 'tf.Tensor(shape=(5,), dtype=int64)', 'Stalling_length': 'tf.Tensor(shape=(5,), dtype=int64)'}\n  • cols_to_output_tensors=None\n  • training=False"
     ]
    }
   ],
   "source": [
    "breed1_hashed = feature_column.categorical_column_with_hash_bucket(\n",
    "      'Stalling_number', hash_bucket_size=10)\n",
    "demo(feature_column.indicator_column(breed1_hashed))\n",
    "\n"
   ]
  },
  {
   "cell_type": "code",
   "execution_count": 23,
   "id": "d51ec0e6",
   "metadata": {},
   "outputs": [],
   "source": [
    "example_batch = next(iter(train_ds))[0]"
   ]
  },
  {
   "cell_type": "code",
   "execution_count": 24,
   "id": "5ac1cb01",
   "metadata": {},
   "outputs": [],
   "source": [
    "# A utility method to create a feature column\n",
    "# and to transform a batch of data\n",
    "def demo(feature_column):\n",
    "  feature_layer = layers.DenseFeatures(feature_column)\n",
    "  print(feature_layer(example_batch).numpy())\n"
   ]
  },
  {
   "cell_type": "code",
   "execution_count": 25,
   "id": "e6d85920",
   "metadata": {},
   "outputs": [
    {
     "name": "stdout",
     "output_type": "stream",
     "text": [
      "[[5.]\n",
      " [4.]\n",
      " [3.]\n",
      " [1.]\n",
      " [5.]]\n"
     ]
    }
   ],
   "source": [
    "photo_count = feature_column.numeric_column('session')\n",
    "demo(photo_count)"
   ]
  },
  {
   "cell_type": "code",
   "execution_count": 26,
   "id": "e1a6a429",
   "metadata": {},
   "outputs": [],
   "source": [
    "feature_columns = []\n",
    "# numeric cols\n",
    "for header in ['rtt', 'download_lossrate', 'download_throughput']:\n",
    "  feature_columns.append(feature_column.numeric_column(header))"
   ]
  },
  {
   "cell_type": "code",
   "execution_count": 27,
   "id": "62c2ed4e",
   "metadata": {},
   "outputs": [],
   "source": [
    "age = feature_column.numeric_column('rtt')\n",
    "age_buckets = feature_column.bucketized_column(age, boundaries=[1, 2, 3, 4, 5])\n",
    "feature_columns.append(age_buckets)"
   ]
  },
  {
   "cell_type": "code",
   "execution_count": 28,
   "id": "2de66bf3",
   "metadata": {},
   "outputs": [],
   "source": [
    "feature_layer = tf.keras.layers.DenseFeatures(feature_columns)"
   ]
  },
  {
   "cell_type": "code",
   "execution_count": 29,
   "id": "fa940647",
   "metadata": {},
   "outputs": [],
   "source": [
    "batch_size = 32\n",
    "train_ds = df_to_dataset(train, batch_size=batch_size)\n",
    "val_ds = df_to_dataset(val, shuffle=False, batch_size=batch_size)\n",
    "test_ds = df_to_dataset(test, shuffle=False, batch_size=batch_size)"
   ]
  },
  {
   "cell_type": "code",
   "execution_count": 30,
   "id": "dfe9a871",
   "metadata": {},
   "outputs": [
    {
     "name": "stdout",
     "output_type": "stream",
     "text": [
      "Epoch 1/10\n",
      "WARNING:tensorflow:Layers in a Sequential model should only have a single input tensor. Received: inputs={'session': <tf.Tensor 'IteratorGetNext:5' shape=(None,) dtype=int64>, 'rtt': <tf.Tensor 'IteratorGetNext:4' shape=(None,) dtype=int64>, 'download_lossrate': <tf.Tensor 'IteratorGetNext:2' shape=(None,) dtype=float64>, 'download_throughput': <tf.Tensor 'IteratorGetNext:3' shape=(None,) dtype=int64>, 'Stalling_number': <tf.Tensor 'IteratorGetNext:1' shape=(None,) dtype=int64>, 'Stalling_length': <tf.Tensor 'IteratorGetNext:0' shape=(None,) dtype=int64>}. Consider rewriting this model with the Functional API.\n",
      "WARNING:tensorflow:Layers in a Sequential model should only have a single input tensor. Received: inputs={'session': <tf.Tensor 'IteratorGetNext:5' shape=(None,) dtype=int64>, 'rtt': <tf.Tensor 'IteratorGetNext:4' shape=(None,) dtype=int64>, 'download_lossrate': <tf.Tensor 'IteratorGetNext:2' shape=(None,) dtype=float64>, 'download_throughput': <tf.Tensor 'IteratorGetNext:3' shape=(None,) dtype=int64>, 'Stalling_number': <tf.Tensor 'IteratorGetNext:1' shape=(None,) dtype=int64>, 'Stalling_length': <tf.Tensor 'IteratorGetNext:0' shape=(None,) dtype=int64>}. Consider rewriting this model with the Functional API.\n",
      "173/192 [==========================>...] - ETA: 0s - loss: -83911.5781 - accuracy: 0.7502WARNING:tensorflow:Layers in a Sequential model should only have a single input tensor. Received: inputs={'session': <tf.Tensor 'IteratorGetNext:5' shape=(None,) dtype=int64>, 'rtt': <tf.Tensor 'IteratorGetNext:4' shape=(None,) dtype=int64>, 'download_lossrate': <tf.Tensor 'IteratorGetNext:2' shape=(None,) dtype=float64>, 'download_throughput': <tf.Tensor 'IteratorGetNext:3' shape=(None,) dtype=int64>, 'Stalling_number': <tf.Tensor 'IteratorGetNext:1' shape=(None,) dtype=int64>, 'Stalling_length': <tf.Tensor 'IteratorGetNext:0' shape=(None,) dtype=int64>}. Consider rewriting this model with the Functional API.\n",
      "192/192 [==============================] - 2s 4ms/step - loss: -109646.9453 - accuracy: 0.7526 - val_loss: -471839.1250 - val_accuracy: 0.7604\n",
      "Epoch 2/10\n",
      "192/192 [==============================] - 0s 2ms/step - loss: -1988578.1250 - accuracy: 0.7542 - val_loss: -4658030.5000 - val_accuracy: 0.7604\n",
      "Epoch 3/10\n",
      "192/192 [==============================] - 0s 2ms/step - loss: -9739753.0000 - accuracy: 0.7542 - val_loss: -16903952.0000 - val_accuracy: 0.7604\n",
      "Epoch 4/10\n",
      "192/192 [==============================] - 0s 2ms/step - loss: -27277820.0000 - accuracy: 0.7542 - val_loss: -40799852.0000 - val_accuracy: 0.7604\n",
      "Epoch 5/10\n",
      "192/192 [==============================] - 0s 2ms/step - loss: -57538608.0000 - accuracy: 0.7542 - val_loss: -78798800.0000 - val_accuracy: 0.7604\n",
      "Epoch 6/10\n",
      "192/192 [==============================] - 1s 2ms/step - loss: -102402296.0000 - accuracy: 0.7542 - val_loss: -132452960.0000 - val_accuracy: 0.7604\n",
      "Epoch 7/10\n",
      "192/192 [==============================] - 1s 2ms/step - loss: -164359200.0000 - accuracy: 0.7542 - val_loss: -205148512.0000 - val_accuracy: 0.7604\n",
      "Epoch 8/10\n",
      "192/192 [==============================] - 1s 2ms/step - loss: -245215856.0000 - accuracy: 0.7542 - val_loss: -297472224.0000 - val_accuracy: 0.7604\n",
      "Epoch 9/10\n",
      "192/192 [==============================] - 0s 2ms/step - loss: -346145120.0000 - accuracy: 0.7542 - val_loss: -410482624.0000 - val_accuracy: 0.7604\n",
      "Epoch 10/10\n",
      "192/192 [==============================] - 1s 2ms/step - loss: -468312416.0000 - accuracy: 0.7542 - val_loss: -546309568.0000 - val_accuracy: 0.7604\n"
     ]
    },
    {
     "data": {
      "text/plain": [
       "<keras.callbacks.History at 0x7ffb3346ceb0>"
      ]
     },
     "execution_count": 30,
     "metadata": {},
     "output_type": "execute_result"
    }
   ],
   "source": [
    "model = tf.keras.Sequential([\n",
    "  feature_layer,\n",
    "  layers.Dense(128, activation='relu'),\n",
    "  layers.Dense(128, activation='relu'),\n",
    "  layers.Dropout(.1),\n",
    "  layers.Dense(1)\n",
    "])\n",
    "\n",
    "model.compile(optimizer='adam',\n",
    "              loss=tf.keras.losses.BinaryCrossentropy(from_logits=True),\n",
    "              metrics=['accuracy'])\n",
    "\n",
    "model.fit(train_ds,\n",
    "          validation_data=val_ds,\n",
    "          epochs=10)"
   ]
  },
  {
   "cell_type": "code",
   "execution_count": 31,
   "id": "9cfc70be",
   "metadata": {},
   "outputs": [
    {
     "name": "stdout",
     "output_type": "stream",
     "text": [
      "60/60 [==============================] - 0s 2ms/step - loss: -523186368.0000 - accuracy: 0.7645\n",
      "Accuracy 0.7644908428192139\n"
     ]
    }
   ],
   "source": [
    "loss, accuracy = model.evaluate(test_ds)\n",
    "print(\"Accuracy\", accuracy)"
   ]
  },
  {
   "cell_type": "code",
   "execution_count": null,
   "id": "a093476d",
   "metadata": {},
   "outputs": [],
   "source": []
  }
 ],
 "metadata": {
  "kernelspec": {
   "display_name": "Python 3 (ipykernel)",
   "language": "python",
   "name": "python3"
  },
  "language_info": {
   "codemirror_mode": {
    "name": "ipython",
    "version": 3
   },
   "file_extension": ".py",
   "mimetype": "text/x-python",
   "name": "python",
   "nbconvert_exporter": "python",
   "pygments_lexer": "ipython3",
   "version": "3.8.10"
  }
 },
 "nbformat": 4,
 "nbformat_minor": 5
}
